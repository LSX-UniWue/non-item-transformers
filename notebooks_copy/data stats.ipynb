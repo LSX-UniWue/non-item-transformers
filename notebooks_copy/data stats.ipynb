{
 "cells": [
  {
   "cell_type": "code",
   "execution_count": 1,
   "outputs": [],
   "source": [
    "import pandas as pd"
   ],
   "metadata": {
    "collapsed": false,
    "pycharm": {
     "name": "#%%\n"
    }
   }
  },
  {
   "cell_type": "code",
   "execution_count": 3,
   "outputs": [],
   "source": [
    "coveos_search_test=pd.read_csv(\"/Users/Lisa/plpdata/coveo-extended.test.csv\", delimiter= \"\\t\", header=0)\n",
    "coveos_search_train=pd.read_csv(\"/Users/Lisa/plpdata/coveo-extended.train.csv\", delimiter= \"\\t\", header=0)\n",
    "coveos_search_val=pd.read_csv(\"/Users/Lisa/plpdata/coveo-extended.validation.csv\", delimiter= \"\\t\", header=0)\n",
    "coveo_complete = pd.concat([coveos_search_test,coveos_search_train,coveos_search_val])"
   ],
   "metadata": {
    "collapsed": false,
    "pycharm": {
     "name": "#%%\n"
    }
   }
  },
  {
   "cell_type": "code",
   "execution_count": 4,
   "outputs": [],
   "source": [],
   "metadata": {
    "collapsed": false,
    "pycharm": {
     "name": "#%%\n"
    }
   }
  },
  {
   "cell_type": "code",
   "execution_count": 5,
   "outputs": [
    {
     "data": {
      "text/plain": "                                     session_id_hash     event_type  \\\n0  0000481159d514ba59c3ccfa77c5767c9d14ac14e99232...       pageview   \n1  0000481159d514ba59c3ccfa77c5767c9d14ac14e99232...       pageview   \n2  0000481159d514ba59c3ccfa77c5767c9d14ac14e99232...       pageview   \n3  0000481159d514ba59c3ccfa77c5767c9d14ac14e99232...  event_product   \n4  0000481159d514ba59c3ccfa77c5767c9d14ac14e99232...  event_product   \n\n  product_action                                   product_sku_hash  \\\n0           view                                          PAGE_VIEW   \n1           view                                          PAGE_VIEW   \n2           view                                          PAGE_VIEW   \n3         detail  2c93fcdceef7261c5408351dd02ae611df0857b5dbb930...   \n4         detail  8f677c04d77b056a58603fe21228f684071eb1437134bb...   \n\n   server_timestamp_epoch_ms  \\\n0              1553886945086   \n1              1553886951905   \n2              1553886985830   \n3              1553886997418   \n4              1553887032398   \n\n                                          hashed_url  \\\n0  433b0e71df1fe9a8d1f45647545701f6108414c40eef76...   \n1  99b0a6e4e532106cece1df19ee0406fbfc33067238dd5b...   \n2  4bea6285a7df7a717620b5705bd818dfc42a5a0de04f30...   \n3  1d62e75de636a20274c954ce7880c30ad58cc217cba5f6...   \n4  eb24e2d7b3fc51017a17b21ba15975fd745fd344d40b2c...   \n\n                                       category_hash price_bucket  \\\n0                                            missing      missing   \n1                                            missing      missing   \n2                                            missing      missing   \n3  0665a81d19c89281cc00e7f7d779ded2ed42c933838602...          9.0   \n4  0665a81d19c89281cc00e7f7d779ded2ed42c933838602...          9.0   \n\n   item_id_type                                category_product_id  \n0             0  433b0e71df1fe9a8d1f45647545701f6108414c40eef76...  \n1             0  99b0a6e4e532106cece1df19ee0406fbfc33067238dd5b...  \n2             0  4bea6285a7df7a717620b5705bd818dfc42a5a0de04f30...  \n3             1  2c93fcdceef7261c5408351dd02ae611df0857b5dbb930...  \n4             1  8f677c04d77b056a58603fe21228f684071eb1437134bb...  ",
      "text/html": "<div>\n<style scoped>\n    .dataframe tbody tr th:only-of-type {\n        vertical-align: middle;\n    }\n\n    .dataframe tbody tr th {\n        vertical-align: top;\n    }\n\n    .dataframe thead th {\n        text-align: right;\n    }\n</style>\n<table border=\"1\" class=\"dataframe\">\n  <thead>\n    <tr style=\"text-align: right;\">\n      <th></th>\n      <th>session_id_hash</th>\n      <th>event_type</th>\n      <th>product_action</th>\n      <th>product_sku_hash</th>\n      <th>server_timestamp_epoch_ms</th>\n      <th>hashed_url</th>\n      <th>category_hash</th>\n      <th>price_bucket</th>\n      <th>item_id_type</th>\n      <th>category_product_id</th>\n    </tr>\n  </thead>\n  <tbody>\n    <tr>\n      <th>0</th>\n      <td>0000481159d514ba59c3ccfa77c5767c9d14ac14e99232...</td>\n      <td>pageview</td>\n      <td>view</td>\n      <td>PAGE_VIEW</td>\n      <td>1553886945086</td>\n      <td>433b0e71df1fe9a8d1f45647545701f6108414c40eef76...</td>\n      <td>missing</td>\n      <td>missing</td>\n      <td>0</td>\n      <td>433b0e71df1fe9a8d1f45647545701f6108414c40eef76...</td>\n    </tr>\n    <tr>\n      <th>1</th>\n      <td>0000481159d514ba59c3ccfa77c5767c9d14ac14e99232...</td>\n      <td>pageview</td>\n      <td>view</td>\n      <td>PAGE_VIEW</td>\n      <td>1553886951905</td>\n      <td>99b0a6e4e532106cece1df19ee0406fbfc33067238dd5b...</td>\n      <td>missing</td>\n      <td>missing</td>\n      <td>0</td>\n      <td>99b0a6e4e532106cece1df19ee0406fbfc33067238dd5b...</td>\n    </tr>\n    <tr>\n      <th>2</th>\n      <td>0000481159d514ba59c3ccfa77c5767c9d14ac14e99232...</td>\n      <td>pageview</td>\n      <td>view</td>\n      <td>PAGE_VIEW</td>\n      <td>1553886985830</td>\n      <td>4bea6285a7df7a717620b5705bd818dfc42a5a0de04f30...</td>\n      <td>missing</td>\n      <td>missing</td>\n      <td>0</td>\n      <td>4bea6285a7df7a717620b5705bd818dfc42a5a0de04f30...</td>\n    </tr>\n    <tr>\n      <th>3</th>\n      <td>0000481159d514ba59c3ccfa77c5767c9d14ac14e99232...</td>\n      <td>event_product</td>\n      <td>detail</td>\n      <td>2c93fcdceef7261c5408351dd02ae611df0857b5dbb930...</td>\n      <td>1553886997418</td>\n      <td>1d62e75de636a20274c954ce7880c30ad58cc217cba5f6...</td>\n      <td>0665a81d19c89281cc00e7f7d779ded2ed42c933838602...</td>\n      <td>9.0</td>\n      <td>1</td>\n      <td>2c93fcdceef7261c5408351dd02ae611df0857b5dbb930...</td>\n    </tr>\n    <tr>\n      <th>4</th>\n      <td>0000481159d514ba59c3ccfa77c5767c9d14ac14e99232...</td>\n      <td>event_product</td>\n      <td>detail</td>\n      <td>8f677c04d77b056a58603fe21228f684071eb1437134bb...</td>\n      <td>1553887032398</td>\n      <td>eb24e2d7b3fc51017a17b21ba15975fd745fd344d40b2c...</td>\n      <td>0665a81d19c89281cc00e7f7d779ded2ed42c933838602...</td>\n      <td>9.0</td>\n      <td>1</td>\n      <td>8f677c04d77b056a58603fe21228f684071eb1437134bb...</td>\n    </tr>\n  </tbody>\n</table>\n</div>"
     },
     "execution_count": 5,
     "metadata": {},
     "output_type": "execute_result"
    }
   ],
   "source": [
    "coveo_complete.head()"
   ],
   "metadata": {
    "collapsed": false,
    "pycharm": {
     "name": "#%%\n"
    }
   }
  },
  {
   "cell_type": "code",
   "execution_count": 6,
   "outputs": [
    {
     "data": {
      "text/plain": "1318922"
     },
     "execution_count": 6,
     "metadata": {},
     "output_type": "execute_result"
    }
   ],
   "source": [
    "coveo_complete[\"session_id_hash\"].nunique()"
   ],
   "metadata": {
    "collapsed": false,
    "pycharm": {
     "name": "#%%\n"
    }
   }
  },
  {
   "cell_type": "markdown",
   "source": [],
   "metadata": {
    "collapsed": false,
    "pycharm": {
     "name": "#%% md\n"
    }
   }
  },
  {
   "cell_type": "code",
   "execution_count": 8,
   "outputs": [
    {
     "data": {
      "text/plain": "105351"
     },
     "execution_count": 8,
     "metadata": {},
     "output_type": "execute_result"
    }
   ],
   "source": [
    "coveo_complete[\"category_product_id\"].nunique()\n"
   ],
   "metadata": {
    "collapsed": false,
    "pycharm": {
     "name": "#%%\n"
    }
   }
  },
  {
   "cell_type": "code",
   "execution_count": 10,
   "outputs": [
    {
     "data": {
      "text/plain": "15709352"
     },
     "execution_count": 10,
     "metadata": {},
     "output_type": "execute_result"
    }
   ],
   "source": [
    "len(coveo_complete)"
   ],
   "metadata": {
    "collapsed": false,
    "pycharm": {
     "name": "#%%\n"
    }
   }
  },
  {
   "cell_type": "code",
   "execution_count": 16,
   "outputs": [
    {
     "data": {
      "text/plain": "11.910751356031668"
     },
     "execution_count": 16,
     "metadata": {},
     "output_type": "execute_result"
    }
   ],
   "source": [
    "(15709352)/1318922"
   ],
   "metadata": {
    "collapsed": false,
    "pycharm": {
     "name": "#%%\n"
    }
   }
  },
  {
   "cell_type": "code",
   "execution_count": 13,
   "outputs": [
    {
     "data": {
      "text/plain": "5.357576111400068"
     },
     "execution_count": 13,
     "metadata": {},
     "output_type": "execute_result"
    }
   ],
   "source": [
    "7066225/1318922"
   ],
   "metadata": {
    "collapsed": false,
    "pycharm": {
     "name": "#%%\n"
    }
   }
  },
  {
   "cell_type": "code",
   "execution_count": 17,
   "outputs": [
    {
     "data": {
      "text/plain": "8643127"
     },
     "execution_count": 17,
     "metadata": {},
     "output_type": "execute_result"
    }
   ],
   "source": [
    "15709352-7066225"
   ],
   "metadata": {
    "collapsed": false,
    "pycharm": {
     "name": "#%%\n"
    }
   }
  },
  {
   "cell_type": "code",
   "execution_count": 18,
   "outputs": [],
   "source": [
    "coveos_search_test=pd.read_csv(\"/Users/Lisa/plpdata/slnd.test.csv\", delimiter= \"\\t\", header=0)\n",
    "coveos_search_train=pd.read_csv(\"/Users/Lisa/plpdata/slnd.train.csv\", delimiter= \"\\t\", header=0)\n",
    "coveos_search_val=pd.read_csv(\"/Users/Lisa/plpdata/slnd.validation.csv\", delimiter= \"\\t\", header=0)\n",
    "coveo_complete = pd.concat([coveos_search_test,coveos_search_train,coveos_search_val])"
   ],
   "metadata": {
    "collapsed": false,
    "pycharm": {
     "name": "#%%\n"
    }
   }
  },
  {
   "cell_type": "code",
   "execution_count": 19,
   "outputs": [
    {
     "data": {
      "text/plain": "134881"
     },
     "execution_count": 19,
     "metadata": {},
     "output_type": "execute_result"
    }
   ],
   "source": [
    "coveo_complete[\"session_id_hash\"].nunique()"
   ],
   "metadata": {
    "collapsed": false,
    "pycharm": {
     "name": "#%%\n"
    }
   }
  },
  {
   "cell_type": "code",
   "execution_count": 20,
   "outputs": [
    {
     "data": {
      "text/plain": "27016"
     },
     "execution_count": 20,
     "metadata": {},
     "output_type": "execute_result"
    }
   ],
   "source": [
    "coveo_complete[\"category_product_id\"].nunique()"
   ],
   "metadata": {
    "collapsed": false,
    "pycharm": {
     "name": "#%%\n"
    }
   }
  },
  {
   "cell_type": "code",
   "execution_count": 21,
   "outputs": [
    {
     "data": {
      "text/plain": "895760"
     },
     "execution_count": 21,
     "metadata": {},
     "output_type": "execute_result"
    }
   ],
   "source": [
    "len(coveo_complete)"
   ],
   "metadata": {
    "collapsed": false,
    "pycharm": {
     "name": "#%%\n"
    }
   }
  },
  {
   "cell_type": "code",
   "execution_count": 22,
   "outputs": [],
   "source": [
    "coveos_search_test=pd.read_csv(\"/Users/Lisa/plpdata/search-extended.test.csv\", delimiter= \"\\t\", header=0)\n",
    "coveos_search_train=pd.read_csv(\"/Users/Lisa/plpdata/search-extended.train.csv\", delimiter= \"\\t\", header=0)\n",
    "coveos_search_val=pd.read_csv(\"/Users/Lisa/plpdata/search-extended.validation.csv\", delimiter= \"\\t\", header=0)\n",
    "coveo_complete = pd.concat([coveos_search_test,coveos_search_train,coveos_search_val])"
   ],
   "metadata": {
    "collapsed": false,
    "pycharm": {
     "name": "#%%\n"
    }
   }
  },
  {
   "cell_type": "code",
   "execution_count": 23,
   "outputs": [
    {
     "data": {
      "text/plain": "134881"
     },
     "execution_count": 23,
     "metadata": {},
     "output_type": "execute_result"
    }
   ],
   "source": [
    "coveo_complete[\"session_id_hash\"].nunique()"
   ],
   "metadata": {
    "collapsed": false,
    "pycharm": {
     "name": "#%%\n"
    }
   }
  },
  {
   "cell_type": "code",
   "execution_count": 24,
   "outputs": [
    {
     "data": {
      "text/plain": "27182"
     },
     "execution_count": 24,
     "metadata": {},
     "output_type": "execute_result"
    }
   ],
   "source": [
    "coveo_complete[\"category_product_id\"].nunique()"
   ],
   "metadata": {
    "collapsed": false,
    "pycharm": {
     "name": "#%%\n"
    }
   }
  },
  {
   "cell_type": "code",
   "execution_count": 25,
   "outputs": [
    {
     "data": {
      "text/plain": "1126893"
     },
     "execution_count": 25,
     "metadata": {},
     "output_type": "execute_result"
    }
   ],
   "source": [
    "len(coveo_complete)"
   ],
   "metadata": {
    "collapsed": false,
    "pycharm": {
     "name": "#%%\n"
    }
   }
  },
  {
   "cell_type": "code",
   "execution_count": null,
   "outputs": [],
   "source": [],
   "metadata": {
    "collapsed": false,
    "pycharm": {
     "name": "#%%\n"
    }
   }
  }
 ],
 "metadata": {
  "kernelspec": {
   "display_name": "Python 3",
   "language": "python",
   "name": "python3"
  },
  "language_info": {
   "codemirror_mode": {
    "name": "ipython",
    "version": 2
   },
   "file_extension": ".py",
   "mimetype": "text/x-python",
   "name": "python",
   "nbconvert_exporter": "python",
   "pygments_lexer": "ipython2",
   "version": "2.7.6"
  }
 },
 "nbformat": 4,
 "nbformat_minor": 0
}