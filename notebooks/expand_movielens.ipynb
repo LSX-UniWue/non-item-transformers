{
 "cells": [
  {
   "cell_type": "code",
   "execution_count": null,
   "outputs": [],
   "source": [],
   "metadata": {
    "collapsed": false,
    "pycharm": {
     "name": "#%%\n"
    }
   }
  },
  {
   "cell_type": "code",
   "execution_count": 1,
   "outputs": [],
   "source": [
    "import pandas as pd"
   ],
   "metadata": {
    "collapsed": false,
    "pycharm": {
     "name": "#%%\n"
    }
   }
  },
  {
   "cell_type": "code",
   "execution_count": 2,
   "outputs": [],
   "source": [
    "import os\n",
    "from pathlib import Path\n",
    "\n",
    "import pandas as pd\n",
    "\n",
    "from asme.data.datamodule.converters import CsvConverter\n",
    "from asme.data.datamodule.util import read_csv\n"
   ],
   "metadata": {
    "collapsed": false,
    "pycharm": {
     "name": "#%%\n"
    }
   }
  },
  {
   "cell_type": "code",
   "execution_count": 27,
   "outputs": [],
   "source": [
    "input_dir = Path(\"/Users/lisa/recommender/datasets/ml-1m-raw\")\n",
    "output_file = Path(\"/Users/lisa/recommender/datasets/ml-1m-extended/ml-1m-extendend.csv\")"
   ],
   "metadata": {
    "collapsed": false,
    "pycharm": {
     "name": "#%%\n"
    }
   }
  },
  {
   "cell_type": "code",
   "execution_count": 28,
   "outputs": [],
   "source": [
    "base_config= \"/Users/lisa/recommender/src/plp_paper/local-ml-1m.yaml\"\n",
    "expanded_config= \"/Users/lisa/recommender/src/plp_paper/local-ml-1m-plp.yaml\""
   ],
   "metadata": {
    "collapsed": false,
    "pycharm": {
     "name": "#%%\n"
    }
   }
  },
  {
   "cell_type": "code",
   "execution_count": null,
   "outputs": [],
   "source": [],
   "metadata": {
    "collapsed": false,
    "pycharm": {
     "name": "#%%\n"
    }
   }
  },
  {
   "cell_type": "code",
   "execution_count": null,
   "outputs": [],
   "source": [],
   "metadata": {
    "collapsed": false,
    "pycharm": {
     "name": "#%%\n"
    }
   }
  },
  {
   "cell_type": "markdown",
   "source": [
    "## Download and split Dataset with Default Values"
   ],
   "metadata": {
    "collapsed": false,
    "pycharm": {
     "name": "#%% md\n"
    }
   }
  },
  {
   "cell_type": "code",
   "execution_count": 4,
   "outputs": [
    {
     "name": "stderr",
     "output_type": "stream",
     "text": [
      "Preprocessing dataset:\n",
      "Downloading dataset ml-1m from http://files.grouplens.org/datasets/movielens/ml-1m.zip.\n",
      "Unpacking dataset.\n",
      "Applying preprocessing step 'Converting to CSV' (1/2)\n",
      "Skipping this step since dry run is available.\n",
      "Applying preprocessing step 'Generating ratio split. (0.8/0.1/0.1).' (2/2)\n",
      "Property 'features.item.tokenizer.vocabulary.file' was not found in the configuration. Inferring it to '/Users/lisa/recommender/datasets/ml-1m/ml-1m/ratio_split-0.8_0.1_0.1/ml-1m.vocabulary.title.txt'.\n",
      "Your module contains a submodule named <embedding> that does not report its hyperparameters, consider adding @save_hyperparameters annotation.\n"
     ]
    },
    {
     "name": "stdout",
     "output_type": "stream",
     "text": [
      "File /Users/lisa/recommender/datasets/ml-1m/ml-1m/ml-1m.zip already downloaded\n"
     ]
    }
   ],
   "source": [
    "from asme.core.utils.run_utils import load_config, create_container\n",
    "import typer\n",
    "import torch\n",
    "\n",
    "torch.multiprocessing.set_start_method('spawn', force=True)\n",
    "\n",
    "def create_original_data(config_file: Path = typer.Argument(..., help='the path to the config file', exists=True)) -> None:\n",
    "    config_file_path = Path(config_file)\n",
    "    config = load_config(config_file_path)\n",
    "    #Creates the dataset:\n",
    "    container = create_container(config)\n",
    "\n",
    "create_original_data(Path(base_config))"
   ],
   "metadata": {
    "collapsed": false,
    "pycharm": {
     "name": "#%%\n"
    }
   }
  },
  {
   "cell_type": "code",
   "execution_count": 122,
   "outputs": [],
   "source": [
    "input_dir = Path(\"/Users/lisa/recommender/datasets/ml-1m/ml-1m/ratio_split-0.8_0.1_0.1\")\n",
    "output_dir = Path(\"/Users/lisa/recommender/datasets/ml-1m/ml-1m-overview/ratio_split-0.8_0.1_0.1\")\n",
    "name = \"ml-1m\"\n",
    "\n",
    "import os\n",
    "def create_extended_movielens_data(input_dir, output_dir, name, stage):\n",
    "    file_type = \".csv\"\n",
    "    encoding = \"latin-1\"\n",
    "    delimiter = \"\\t\"\n",
    "    item_df = read_csv(input_dir, f'{name}.{stage}', file_type, \"\\t\", header=0, encoding=encoding)\n",
    "    item_df[\"cat_title\"] = item_df[\"title\"]\n",
    "    item_df[\"old_title\"] = item_df[\"title\"]\n",
    "    item_df[\"item_id_type\"] = 1\n",
    "    page_df_mod = item_df.copy()\n",
    "    page_df_mod[\"old_title\"] = page_df_mod[\"title\"]\n",
    "    page_df_mod[\"title\"] = \"OVERVIEW-PAGE\"\n",
    "    page_df_mod[\"cat_title\"] = page_df_mod[\"genres\"]\n",
    "    page_df_mod[\"item_id_type\"] = 0\n",
    "    page_df_mod[\"rating\"] = -1\n",
    "    page_df_mod[\"year\"] = 0\n",
    "    item_df['original_order'] = item_df.groupby(['userId', 'timestamp']).cumcount() + 1\n",
    "    page_df_mod['original_order'] = page_df_mod.groupby(['userId', 'timestamp']).cumcount() + 1\n",
    "    item_df = pd.concat([item_df,page_df_mod], ignore_index=True)\n",
    "    item_df = item_df.sort_values([\"userId\",\"timestamp\",\"original_order\",\"item_id_type\"])\n",
    "    item_df = item_df[['userId', 'rating', 'timestamp', 'gender', 'age',\n",
    "                       'occupation', 'title', 'genres', 'year', 'user_all', 'cat_title', 'item_id_type']]\n",
    "    os.makedirs(output_dir, exist_ok=True)\n",
    "    item_df.to_csv(f'{output_dir}/{name}.{stage}{file_type}', sep=delimiter, index=False)\n",
    "\n",
    "for stage in [\"test\",\"train\",\"validation\"]:\n",
    "    create_extended_movielens_data(input_dir,output_dir,name,stage)\n"
   ],
   "metadata": {
    "collapsed": false,
    "pycharm": {
     "name": "#%%\n"
    }
   }
  },
  {
   "cell_type": "code",
   "execution_count": 120,
   "outputs": [],
   "source": [],
   "metadata": {
    "collapsed": false,
    "pycharm": {
     "name": "#%%\n"
    }
   }
  },
  {
   "cell_type": "code",
   "execution_count": null,
   "outputs": [],
   "source": [],
   "metadata": {
    "collapsed": false,
    "pycharm": {
     "name": "#%%\n"
    }
   }
  },
  {
   "cell_type": "code",
   "execution_count": 29,
   "outputs": [],
   "source": [
    "vocabulary_file_plain =\"/Users/lisa/recommender/datasets/ml-1m/ml-1m/ratio_split-0.8_0.1_0.1/ml-1m.vocabulary.title.txt\"\n",
    "vocabulary_file_target =\"/Users/lisa/recommender/datasets/ml-1m/ml-1m-overview/ratio_split-0.8_0.1_0.1/ml-1m-extended.vocabulary.cat_title.txt\""
   ],
   "metadata": {
    "collapsed": false,
    "pycharm": {
     "name": "#%%\n"
    }
   }
  },
  {
   "cell_type": "code",
   "execution_count": 45,
   "outputs": [],
   "source": [
    "reduced_vocabulary = pd.read_csv(vocabulary_file_plain, header= None, sep=\"\\t\")\n",
    "full_vocabulary = pd.read_csv(vocabulary_file_target, header= None, sep=\"\\t\")"
   ],
   "metadata": {
    "collapsed": false,
    "pycharm": {
     "name": "#%%\n"
    }
   }
  },
  {
   "cell_type": "code",
   "execution_count": 54,
   "outputs": [],
   "source": [
    "vocab_join = full_vocabulary.merge(reduced_vocabulary, on= 0, how='inner')[\"1_x\"].astype(int).tolist()"
   ],
   "metadata": {
    "collapsed": false,
    "pycharm": {
     "name": "#%%\n"
    }
   }
  },
  {
   "cell_type": "code",
   "execution_count": 55,
   "outputs": [
    {
     "data": {
      "text/plain": "[0,\n 1,\n 2,\n 4,\n 6,\n 8,\n 10,\n 12,\n 14,\n 16,\n 18,\n 20,\n 22,\n 24,\n 26,\n 28,\n 30,\n 32,\n 34,\n 36,\n 40,\n 42,\n 44,\n 46,\n 48,\n 50,\n 52,\n 54,\n 56,\n 58,\n 60,\n 62,\n 64,\n 66,\n 68,\n 70,\n 72,\n 74,\n 76,\n 78,\n 80,\n 82,\n 84,\n 86,\n 88,\n 90,\n 92,\n 94,\n 96,\n 97,\n 99,\n 100,\n 101,\n 103,\n 105,\n 107,\n 109,\n 111,\n 113,\n 115,\n 116,\n 117,\n 118,\n 119,\n 121,\n 123,\n 125,\n 127,\n 129,\n 131,\n 132,\n 133,\n 134,\n 136,\n 138,\n 140,\n 142,\n 144,\n 146,\n 147,\n 149,\n 151,\n 153,\n 155,\n 157,\n 159,\n 161,\n 163,\n 165,\n 167,\n 169,\n 171,\n 173,\n 175,\n 177,\n 179,\n 181,\n 183,\n 185,\n 187,\n 189,\n 191,\n 192,\n 194,\n 195,\n 196,\n 198,\n 200,\n 202,\n 204,\n 206,\n 207,\n 208,\n 210,\n 212,\n 214,\n 216,\n 218,\n 220,\n 222,\n 224,\n 226,\n 228,\n 230,\n 232,\n 234,\n 236,\n 238,\n 240,\n 242,\n 244,\n 246,\n 248,\n 250,\n 252,\n 254,\n 256,\n 258,\n 260,\n 262,\n 264,\n 266,\n 268,\n 270,\n 272,\n 274,\n 276,\n 278,\n 280,\n 282,\n 284,\n 286,\n 288,\n 290,\n 292,\n 294,\n 296,\n 298,\n 300,\n 302,\n 304,\n 306,\n 308,\n 310,\n 312,\n 314,\n 315,\n 316,\n 317,\n 319,\n 321,\n 323,\n 325,\n 327,\n 329,\n 331,\n 333,\n 335,\n 337,\n 339,\n 341,\n 343,\n 345,\n 347,\n 349,\n 351,\n 352,\n 353,\n 354,\n 355,\n 356,\n 357,\n 359,\n 360,\n 362,\n 364,\n 365,\n 366,\n 368,\n 369,\n 371,\n 372,\n 374,\n 376,\n 377,\n 378,\n 379,\n 381,\n 383,\n 384,\n 386,\n 387,\n 389,\n 391,\n 393,\n 394,\n 396,\n 398,\n 399,\n 401,\n 403,\n 405,\n 406,\n 408,\n 410,\n 412,\n 414,\n 416,\n 417,\n 418,\n 420,\n 423,\n 425,\n 427,\n 428,\n 429,\n 431,\n 433,\n 435,\n 436,\n 438,\n 440,\n 442,\n 443,\n 445,\n 446,\n 448,\n 450,\n 452,\n 454,\n 456,\n 457,\n 459,\n 461,\n 462,\n 464,\n 466,\n 467,\n 469,\n 471,\n 473,\n 475,\n 477,\n 478,\n 479,\n 481,\n 483,\n 485,\n 487,\n 488,\n 489,\n 491,\n 493,\n 494,\n 495,\n 497,\n 498,\n 499,\n 500,\n 502,\n 504,\n 505,\n 507,\n 508,\n 510,\n 511,\n 513,\n 514,\n 516,\n 517,\n 518,\n 519,\n 520,\n 522,\n 524,\n 525,\n 527,\n 528,\n 529,\n 530,\n 531,\n 533,\n 534,\n 536,\n 537,\n 538,\n 540,\n 542,\n 543,\n 545,\n 546,\n 547,\n 548,\n 550,\n 551,\n 553,\n 555,\n 557,\n 558,\n 559,\n 561,\n 563,\n 564,\n 566,\n 568,\n 569,\n 571,\n 573,\n 575,\n 576,\n 578,\n 579,\n 580,\n 582,\n 583,\n 585,\n 587,\n 588,\n 589,\n 591,\n 592,\n 595,\n 597,\n 598,\n 600,\n 601,\n 603,\n 604,\n 606,\n 608,\n 609,\n 610,\n 612,\n 613,\n 615,\n 616,\n 617,\n 618,\n 620,\n 622,\n 624,\n 626,\n 628,\n 630,\n 632,\n 634,\n 636,\n 638,\n 640,\n 642,\n 644,\n 646,\n 648,\n 650,\n 652,\n 653,\n 655,\n 657,\n 659,\n 661,\n 663,\n 665,\n 667,\n 669,\n 671,\n 673,\n 675,\n 677,\n 679,\n 681,\n 683,\n 685,\n 687,\n 689,\n 691,\n 693,\n 695,\n 697,\n 699,\n 701,\n 703,\n 705,\n 707,\n 708,\n 709,\n 711,\n 713,\n 715,\n 716,\n 717,\n 719,\n 721,\n 722,\n 723,\n 724,\n 726,\n 728,\n 730,\n 732,\n 733,\n 735,\n 737,\n 738,\n 740,\n 742,\n 744,\n 746,\n 747,\n 749,\n 751,\n 753,\n 754,\n 756,\n 757,\n 759,\n 760,\n 761,\n 762,\n 763,\n 764,\n 765,\n 767,\n 769,\n 770,\n 771,\n 772,\n 773,\n 774,\n 775,\n 776,\n 777,\n 778,\n 779,\n 780,\n 781,\n 782,\n 784,\n 786,\n 788,\n 789,\n 791,\n 793,\n 795,\n 797,\n 798,\n 800,\n 802,\n 804,\n 806,\n 808,\n 809,\n 810,\n 812,\n 814,\n 816,\n 818,\n 820,\n 822,\n 824,\n 825,\n 827,\n 829,\n 831,\n 833,\n 835,\n 837,\n 839,\n 840,\n 841,\n 843,\n 845,\n 847,\n 849,\n 850,\n 852,\n 854,\n 855,\n 857,\n 858,\n 860,\n 862,\n 864,\n 866,\n 867,\n 868,\n 870,\n 872,\n 874,\n 876,\n 877,\n 879,\n 881,\n 883,\n 885,\n 887,\n 889,\n 890,\n 892,\n 893,\n 895,\n 897,\n 899,\n 901,\n 903,\n 904,\n 906,\n 908,\n 910,\n 912,\n 914,\n 916,\n 918,\n 920,\n 922,\n 924,\n 926,\n 928,\n 929,\n 931,\n 933,\n 935,\n 937,\n 939,\n 940,\n 942,\n 943,\n 945,\n 947,\n 949,\n 951,\n 953,\n 955,\n 957,\n 959,\n 961,\n 962,\n 964,\n 966,\n 968,\n 970,\n 972,\n 974,\n 976,\n 978,\n 979,\n 981,\n 983,\n 984,\n 986,\n 988,\n 989,\n 990,\n 992,\n 994,\n 995,\n 997,\n 999,\n 1000,\n 1002,\n 1004,\n 1005,\n 1007,\n 1009,\n 1011,\n 1013,\n 1014,\n 1016,\n 1018,\n 1020,\n 1021,\n 1023,\n 1024,\n 1025,\n 1026,\n 1028,\n 1030,\n 1031,\n 1032,\n 1033,\n 1035,\n 1037,\n 1038,\n 1039,\n 1041,\n 1042,\n 1043,\n 1045,\n 1047,\n 1049,\n 1051,\n 1052,\n 1054,\n 1056,\n 1058,\n 1059,\n 1060,\n 1061,\n 1062,\n 1063,\n 1065,\n 1066,\n 1068,\n 1070,\n 1072,\n 1073,\n 1075,\n 1076,\n 1078,\n 1080,\n 1081,\n 1082,\n 1084,\n 1086,\n 1087,\n 1089,\n 1090,\n 1091,\n 1092,\n 1094,\n 1096,\n 1097,\n 1098,\n 1100,\n 1102,\n 1104,\n 1105,\n 1107,\n 1110,\n 1112,\n 1113,\n 1114,\n 1115,\n 1117,\n 1118,\n 1120,\n 1122,\n 1123,\n 1125,\n 1126,\n 1128,\n 1129,\n 1131,\n 1133,\n 1135,\n 1137,\n 1139,\n 1141,\n 1143,\n 1144,\n 1146,\n 1148,\n 1150,\n 1151,\n 1153,\n 1155,\n 1157,\n 1159,\n 1161,\n 1163,\n 1165,\n 1167,\n 1169,\n 1171,\n 1173,\n 1175,\n 1176,\n 1177,\n 1179,\n 1181,\n 1182,\n 1184,\n 1186,\n 1188,\n 1190,\n 1192,\n 1194,\n 1196,\n 1198,\n 1200,\n 1201,\n 1202,\n 1204,\n 1206,\n 1208,\n 1210,\n 1211,\n 1212,\n 1213,\n 1215,\n 1217,\n 1219,\n 1220,\n 1221,\n 1222,\n 1223,\n 1224,\n 1225,\n 1226,\n 1227,\n 1228,\n 1230,\n 1232,\n 1234,\n 1236,\n 1237,\n 1238,\n 1239,\n 1240,\n 1241,\n 1242,\n 1244,\n 1245,\n 1246,\n 1248,\n 1249,\n 1250,\n 1252,\n 1253,\n 1254,\n 1255,\n 1257,\n 1259,\n 1260,\n 1261,\n 1263,\n 1264,\n 1265,\n 1266,\n 1268,\n 1269,\n 1270,\n 1271,\n 1272,\n 1273,\n 1274,\n 1275,\n 1276,\n 1277,\n 1278,\n 1279,\n 1280,\n 1281,\n 1283,\n 1285,\n 1287,\n 1289,\n 1291,\n 1293,\n 1295,\n 1297,\n 1298,\n 1299,\n 1301,\n 1303,\n 1305,\n 1307,\n 1309,\n 1311,\n 1313,\n 1314,\n 1316,\n 1318,\n 1320,\n 1322,\n 1324,\n 1326,\n 1328,\n 1330,\n 1332,\n 1334,\n 1335,\n 1337,\n 1339,\n 1341,\n 1343,\n 1345,\n 1347,\n 1349,\n 1351,\n 1352,\n 1353,\n 1354,\n 1355,\n 1357,\n 1358,\n 1360,\n 1361,\n 1362,\n 1364,\n 1365,\n 1367,\n 1368,\n 1369,\n 1370,\n 1371,\n 1372,\n 1373,\n 1374,\n 1375,\n 1376,\n 1378,\n 1379,\n 1383,\n 1384,\n 1386,\n 1387,\n 1388,\n 1389,\n 1391,\n 1392,\n 1394,\n 1395,\n 1397,\n 1398,\n 1399,\n 1401,\n 1403,\n 1404,\n 1405,\n 1406,\n 1407,\n 1408,\n 1409,\n 1410,\n 1412,\n 1414,\n 1416,\n 1418,\n 1420,\n 1422,\n 1424,\n 1426,\n 1428,\n 1430,\n 1432,\n 1433,\n 1435,\n 1437,\n 1439,\n 1441,\n 1443,\n 1445,\n 1447,\n 1448,\n 1450,\n 1451,\n 1453,\n 1454,\n 1455,\n 1456,\n 1458,\n 1459,\n 1460,\n 1462,\n 1464,\n 1465,\n 1466,\n 1468,\n 1469,\n 1471,\n 1472,\n 1474,\n 1475,\n 1477,\n 1478,\n 1480,\n 1482,\n 1483,\n 1484,\n 1486,\n 1487,\n 1488,\n 1490,\n 1492,\n 1494,\n 1495,\n 1496,\n 1498,\n 1499,\n 1500,\n 1501,\n 1503,\n 1504,\n 1506,\n 1508,\n 1509,\n 1510,\n 1512,\n 1514,\n 1516,\n 1518,\n 1520,\n 1522,\n 1524,\n 1526,\n 1528,\n 1530,\n 1532,\n 1534,\n 1536,\n 1538,\n 1540,\n 1542,\n 1544,\n 1546,\n 1548,\n 1550,\n 1552,\n 1554,\n 1556,\n 1558,\n 1560,\n 1561,\n 1563,\n 1565,\n 1566,\n 1568,\n 1570,\n 1572,\n 1573,\n 1575,\n 1577,\n 1579,\n 1581,\n 1583,\n 1585,\n 1587,\n 1589,\n 1591,\n 1593,\n 1595,\n 1596,\n 1597,\n 1599,\n 1601,\n 1603,\n 1605,\n 1607,\n 1609,\n 1611,\n 1613,\n 1615,\n 1617,\n 1618,\n 1619,\n 1621,\n 1623,\n 1625,\n 1627,\n 1629,\n 1631,\n 1633,\n 1635,\n 1637,\n 1639,\n 1641,\n 1643,\n 1645,\n 1647,\n 1648,\n 1649,\n 1650,\n 1652,\n 1654,\n 1656,\n 1658,\n 1660,\n 1662,\n 1664,\n 1666,\n 1668,\n 1670,\n 1672,\n 1674,\n 1675,\n 1677,\n 1679,\n 1680,\n 1681,\n 1683,\n ...]"
     },
     "execution_count": 55,
     "metadata": {},
     "output_type": "execute_result"
    }
   ],
   "source": [
    "vocab_join"
   ],
   "metadata": {
    "collapsed": false,
    "pycharm": {
     "name": "#%%\n"
    }
   }
  },
  {
   "cell_type": "code",
   "execution_count": 7,
   "outputs": [],
   "source": [
    "from typing import Callable, Any, List\n",
    "\n",
    "\n",
    "def load_file_with_item_ids(path: Path) -> List[int]:\n",
    "    \"\"\"\n",
    "    loads a file containing item ids into a list\n",
    "    :param path: the path of the file\n",
    "    :return:\n",
    "    \"\"\"\n",
    "    items = _load_file_line_by_line(path, int)\n",
    "    sorted(items)\n",
    "    return items\n",
    "\n",
    "\n",
    "def _load_file_line_by_line(path: Path, line_converter: Callable[[str], Any]) -> List[Any]:\n",
    "    with open(path) as item_file:\n",
    "        return [line_converter(line) for line in item_file.readlines()]"
   ],
   "metadata": {
    "collapsed": false,
    "pycharm": {
     "name": "#%%\n"
    }
   }
  },
  {
   "cell_type": "code",
   "execution_count": null,
   "outputs": [],
   "source": [],
   "metadata": {
    "collapsed": false,
    "pycharm": {
     "name": "#%%\n"
    }
   }
  }
 ],
 "metadata": {
  "kernelspec": {
   "display_name": "Python 3",
   "language": "python",
   "name": "python3"
  },
  "language_info": {
   "codemirror_mode": {
    "name": "ipython",
    "version": 2
   },
   "file_extension": ".py",
   "mimetype": "text/x-python",
   "name": "python",
   "nbconvert_exporter": "python",
   "pygments_lexer": "ipython2",
   "version": "2.7.6"
  }
 },
 "nbformat": 4,
 "nbformat_minor": 0
}