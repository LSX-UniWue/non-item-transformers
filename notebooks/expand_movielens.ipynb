{
 "cells": [
  {
   "cell_type": "code",
   "execution_count": 1,
   "outputs": [],
   "source": [
    "import pandas as pd"
   ],
   "metadata": {
    "collapsed": false,
    "pycharm": {
     "name": "#%%\n"
    }
   }
  },
  {
   "cell_type": "code",
   "execution_count": 100,
   "outputs": [],
   "source": [
    "import os\n",
    "from pathlib import Path\n",
    "\n",
    "import pandas as pd\n",
    "\n",
    "from asme.data.datamodule.converters import CsvConverter\n",
    "from asme.data.datamodule.util import read_csv\n"
   ],
   "metadata": {
    "collapsed": false,
    "pycharm": {
     "name": "#%%\n"
    }
   }
  },
  {
   "cell_type": "code",
   "execution_count": 102,
   "outputs": [],
   "source": [
    "input_dir = Path(\"/Users/lisa/recommender/datasets/ml-1m-raw\")\n",
    "output_file = Path(\"/Users/lisa/recommender/datasets/ml-1m-extended/ml-1m-extendend.csv\")"
   ],
   "metadata": {
    "collapsed": false,
    "pycharm": {
     "name": "#%%\n"
    }
   }
  },
  {
   "cell_type": "code",
   "execution_count": 101,
   "outputs": [],
   "source": [
    "base_config= \"/Users/lisa/recommender/src/asme.plp_paper/local-ml-1m.yaml\"\n",
    "expanded_config= \"/Users/lisa/recommender/src/asme.plp_paper/local-ml-1m-plp.yaml\""
   ],
   "metadata": {
    "collapsed": false,
    "pycharm": {
     "name": "#%%\n"
    }
   }
  },
  {
   "cell_type": "markdown",
   "source": [
    "## Download and split Dataset with Default Values"
   ],
   "metadata": {
    "collapsed": false,
    "pycharm": {
     "name": "#%% md\n"
    }
   }
  },
  {
   "cell_type": "code",
   "execution_count": 4,
   "outputs": [
    {
     "name": "stderr",
     "output_type": "stream",
     "text": [
      "Preprocessing dataset:\n",
      "Downloading dataset ml-1m from http://files.grouplens.org/datasets/movielens/ml-1m.zip.\n",
      "Unpacking dataset.\n",
      "Applying preprocessing step 'Converting to CSV' (1/2)\n",
      "Skipping this step since dry run is available.\n",
      "Applying preprocessing step 'Generating ratio split. (0.8/0.1/0.1).' (2/2)\n",
      "Property 'features.item.tokenizer.vocabulary.file' was not found in the configuration. Inferring it to '/Users/lisa/recommender/datasets/ml-1m/ml-1m/ratio_split-0.8_0.1_0.1/ml-1m.vocabulary.title.txt'.\n",
      "Your module contains a submodule named <embedding> that does not report its hyperparameters, consider adding @save_hyperparameters annotation.\n"
     ]
    },
    {
     "name": "stdout",
     "output_type": "stream",
     "text": [
      "File /Users/lisa/recommender/datasets/ml-1m/ml-1m/ml-1m.zip already downloaded\n"
     ]
    }
   ],
   "source": [
    "from asme.core.utils.run_utils import load_config, create_container\n",
    "import typer\n",
    "import torch\n",
    "\n",
    "torch.multiprocessing.set_start_method('spawn', force=True)\n",
    "\n",
    "def create_original_data(config_file: Path = typer.Argument(..., help='the path to the config file', exists=True)) -> None:\n",
    "    config_file_path = Path(config_file)\n",
    "    config = load_config(config_file_path)\n",
    "    #Creates the dataset:\n",
    "    container = create_container(config)\n",
    "\n",
    "create_original_data(Path(base_config))"
   ],
   "metadata": {
    "collapsed": false,
    "pycharm": {
     "name": "#%%\n"
    }
   }
  },
  {
   "cell_type": "code",
   "execution_count": 122,
   "outputs": [],
   "source": [
    "input_dir = Path(\"/Users/lisa/recommender/datasets/ml-1m/ml-1m/ratio_split-0.8_0.1_0.1\")\n",
    "output_dir = Path(\"/Users/lisa/recommender/datasets/ml-1m/ml-1m-overview/ratio_split-0.8_0.1_0.1\")\n",
    "name = \"ml-1m\"\n",
    "\n",
    "import os\n",
    "def create_extended_movielens_data(input_dir, output_dir, name, stage):\n",
    "    file_type = \".csv\"\n",
    "    encoding = \"latin-1\"\n",
    "    delimiter = \"\\t\"\n",
    "    item_df = read_csv(input_dir, f'{name}.{stage}', file_type, \"\\t\", header=0, encoding=encoding)\n",
    "    item_df[\"cat_title\"] = item_df[\"title\"]\n",
    "    item_df[\"old_title\"] = item_df[\"title\"]\n",
    "    item_df[\"item_id_type\"] = 1\n",
    "    page_df_mod = item_df.copy()\n",
    "    page_df_mod[\"old_title\"] = page_df_mod[\"title\"]\n",
    "    page_df_mod[\"title\"] = \"OVERVIEW-PAGE\"\n",
    "    page_df_mod[\"cat_title\"] = page_df_mod[\"genres\"]\n",
    "    page_df_mod[\"item_id_type\"] = 0\n",
    "    page_df_mod[\"rating\"] = -1\n",
    "    page_df_mod[\"year\"] = 0\n",
    "    item_df['original_order'] = item_df.groupby(['userId', 'timestamp']).cumcount() + 1\n",
    "    page_df_mod['original_order'] = page_df_mod.groupby(['userId', 'timestamp']).cumcount() + 1\n",
    "    item_df = pd.concat([item_df,page_df_mod], ignore_index=True)\n",
    "    item_df = item_df.sort_values([\"userId\",\"timestamp\",\"original_order\",\"item_id_type\"])\n",
    "    item_df = item_df[['userId', 'rating', 'timestamp', 'gender', 'age',\n",
    "                       'occupation', 'title', 'genres', 'year', 'user_all', 'cat_title', 'item_id_type']]\n",
    "    os.makedirs(output_dir, exist_ok=True)\n",
    "    item_df.to_csv(f'{output_dir}/{name}.{stage}{file_type}', sep=delimiter, index=False)\n",
    "\n",
    "for stage in [\"test\",\"train\",\"validation\"]:\n",
    "    create_extended_movielens_data(input_dir,output_dir,name,stage)\n"
   ],
   "metadata": {
    "collapsed": false,
    "pycharm": {
     "name": "#%%\n"
    }
   }
  },
  {
   "cell_type": "code",
   "execution_count": 120,
   "outputs": [],
   "source": [],
   "metadata": {
    "collapsed": false,
    "pycharm": {
     "name": "#%%\n"
    }
   }
  },
  {
   "cell_type": "code",
   "execution_count": null,
   "outputs": [],
   "source": [],
   "metadata": {
    "collapsed": false,
    "pycharm": {
     "name": "#%%\n"
    }
   }
  }
 ],
 "metadata": {
  "kernelspec": {
   "display_name": "Python 3",
   "language": "python",
   "name": "python3"
  },
  "language_info": {
   "codemirror_mode": {
    "name": "ipython",
    "version": 2
   },
   "file_extension": ".py",
   "mimetype": "text/x-python",
   "name": "python",
   "nbconvert_exporter": "python",
   "pygments_lexer": "ipython2",
   "version": "2.7.6"
  }
 },
 "nbformat": 4,
 "nbformat_minor": 0
}