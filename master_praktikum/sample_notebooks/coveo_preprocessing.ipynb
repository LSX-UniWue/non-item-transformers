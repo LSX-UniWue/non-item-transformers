{
 "cells": [
  {
   "cell_type": "markdown",
   "source": [
    "# Coveo Dataset Preprocessing"
   ],
   "metadata": {
    "collapsed": false
   }
  },
  {
   "cell_type": "code",
   "execution_count": 1,
   "outputs": [],
   "source": [
    "import pandas as pd\n",
    "import numpy as np\n",
    "import matplotlib.pyplot as plt"
   ],
   "metadata": {
    "collapsed": false
   }
  },
  {
   "cell_type": "code",
   "execution_count": 2,
   "outputs": [],
   "source": [
    "browsing_train = pd.read_csv(\"../coveo_sample_data/browsing_train_sample.csv\")\n",
    "search_train = pd.read_csv(\"../coveo_sample_data/search_train_sample.csv\")\n",
    "sku_to_content = pd.read_csv(\"../coveo_sample_data/sku_to_content_sample.csv\")"
   ],
   "metadata": {
    "collapsed": false
   }
  },
  {
   "cell_type": "code",
   "execution_count": 3,
   "outputs": [
    {
     "data": {
      "text/plain": "                                       session_id_hash     event_type  \\\n0    20c458b802f6ea9374783bfc528b19421be977a6769785...  event_product   \n1    20c458b802f6ea9374783bfc528b19421be977a6769785...  event_product   \n2    20c458b802f6ea9374783bfc528b19421be977a6769785...       pageview   \n3    20c458b802f6ea9374783bfc528b19421be977a6769785...  event_product   \n4    20c458b802f6ea9374783bfc528b19421be977a6769785...       pageview   \n..                                                 ...            ...   \n994  cedfb82a26c27b1f22fdc678892a426276ce299362cf0f...  event_product   \n995  cedfb82a26c27b1f22fdc678892a426276ce299362cf0f...       pageview   \n996  cedfb82a26c27b1f22fdc678892a426276ce299362cf0f...       pageview   \n997  cedfb82a26c27b1f22fdc678892a426276ce299362cf0f...  event_product   \n998  cedfb82a26c27b1f22fdc678892a426276ce299362cf0f...       pageview   \n\n    product_action                                   product_sku_hash  \\\n0           detail  d5157f8bc52965390fa21ad5842a8502bc3eb8b0930f3f...   \n1           detail  61ef3869355b78e11011f39fc7ac8f8dfb209b3442a9d5...   \n2              NaN                                                NaN   \n3           detail  d5157f8bc52965390fa21ad5842a8502bc3eb8b0930f3f...   \n4              NaN                                                NaN   \n..             ...                                                ...   \n994            add  650788beae75cb08d99dd70b3b3f430896d3019ab33d5b...   \n995            NaN                                                NaN   \n996            NaN                                                NaN   \n997       purchase  650788beae75cb08d99dd70b3b3f430896d3019ab33d5b...   \n998            NaN                                                NaN   \n\n     server_timestamp_epoch_ms  \\\n0                1550885210881   \n1                1550885213307   \n2                1550885213307   \n3                1550885215484   \n4                1550885215484   \n..                         ...   \n994              1552486180070   \n995              1552486183972   \n996              1552486639796   \n997              1552486639796   \n998              1552486668837   \n\n                                            hashed_url  \n0    7e4527ac6a32deed4f4f06bb7c49b907b7ca371e59d57d...  \n1    4ed279f4f0deab6dfc80f4f7bf49d527fd894fa478a9ce...  \n2    4ed279f4f0deab6dfc80f4f7bf49d527fd894fa478a9ce...  \n3    7e4527ac6a32deed4f4f06bb7c49b907b7ca371e59d57d...  \n4    7e4527ac6a32deed4f4f06bb7c49b907b7ca371e59d57d...  \n..                                                 ...  \n994  83b4fdad686c1be4eba335f70d23ae202b84b6153e109e...  \n995  0ad6fab1eb3ac76010ea2fa6399a4e993b00f6501c88a2...  \n996  e396b36a40f2c41d259a45b80e10cd113eb0bf7540b73f...  \n997  e396b36a40f2c41d259a45b80e10cd113eb0bf7540b73f...  \n998  433b0e71df1fe9a8d1f45647545701f6108414c40eef76...  \n\n[999 rows x 6 columns]",
      "text/html": "<div>\n<style scoped>\n    .dataframe tbody tr th:only-of-type {\n        vertical-align: middle;\n    }\n\n    .dataframe tbody tr th {\n        vertical-align: top;\n    }\n\n    .dataframe thead th {\n        text-align: right;\n    }\n</style>\n<table border=\"1\" class=\"dataframe\">\n  <thead>\n    <tr style=\"text-align: right;\">\n      <th></th>\n      <th>session_id_hash</th>\n      <th>event_type</th>\n      <th>product_action</th>\n      <th>product_sku_hash</th>\n      <th>server_timestamp_epoch_ms</th>\n      <th>hashed_url</th>\n    </tr>\n  </thead>\n  <tbody>\n    <tr>\n      <th>0</th>\n      <td>20c458b802f6ea9374783bfc528b19421be977a6769785...</td>\n      <td>event_product</td>\n      <td>detail</td>\n      <td>d5157f8bc52965390fa21ad5842a8502bc3eb8b0930f3f...</td>\n      <td>1550885210881</td>\n      <td>7e4527ac6a32deed4f4f06bb7c49b907b7ca371e59d57d...</td>\n    </tr>\n    <tr>\n      <th>1</th>\n      <td>20c458b802f6ea9374783bfc528b19421be977a6769785...</td>\n      <td>event_product</td>\n      <td>detail</td>\n      <td>61ef3869355b78e11011f39fc7ac8f8dfb209b3442a9d5...</td>\n      <td>1550885213307</td>\n      <td>4ed279f4f0deab6dfc80f4f7bf49d527fd894fa478a9ce...</td>\n    </tr>\n    <tr>\n      <th>2</th>\n      <td>20c458b802f6ea9374783bfc528b19421be977a6769785...</td>\n      <td>pageview</td>\n      <td>NaN</td>\n      <td>NaN</td>\n      <td>1550885213307</td>\n      <td>4ed279f4f0deab6dfc80f4f7bf49d527fd894fa478a9ce...</td>\n    </tr>\n    <tr>\n      <th>3</th>\n      <td>20c458b802f6ea9374783bfc528b19421be977a6769785...</td>\n      <td>event_product</td>\n      <td>detail</td>\n      <td>d5157f8bc52965390fa21ad5842a8502bc3eb8b0930f3f...</td>\n      <td>1550885215484</td>\n      <td>7e4527ac6a32deed4f4f06bb7c49b907b7ca371e59d57d...</td>\n    </tr>\n    <tr>\n      <th>4</th>\n      <td>20c458b802f6ea9374783bfc528b19421be977a6769785...</td>\n      <td>pageview</td>\n      <td>NaN</td>\n      <td>NaN</td>\n      <td>1550885215484</td>\n      <td>7e4527ac6a32deed4f4f06bb7c49b907b7ca371e59d57d...</td>\n    </tr>\n    <tr>\n      <th>...</th>\n      <td>...</td>\n      <td>...</td>\n      <td>...</td>\n      <td>...</td>\n      <td>...</td>\n      <td>...</td>\n    </tr>\n    <tr>\n      <th>994</th>\n      <td>cedfb82a26c27b1f22fdc678892a426276ce299362cf0f...</td>\n      <td>event_product</td>\n      <td>add</td>\n      <td>650788beae75cb08d99dd70b3b3f430896d3019ab33d5b...</td>\n      <td>1552486180070</td>\n      <td>83b4fdad686c1be4eba335f70d23ae202b84b6153e109e...</td>\n    </tr>\n    <tr>\n      <th>995</th>\n      <td>cedfb82a26c27b1f22fdc678892a426276ce299362cf0f...</td>\n      <td>pageview</td>\n      <td>NaN</td>\n      <td>NaN</td>\n      <td>1552486183972</td>\n      <td>0ad6fab1eb3ac76010ea2fa6399a4e993b00f6501c88a2...</td>\n    </tr>\n    <tr>\n      <th>996</th>\n      <td>cedfb82a26c27b1f22fdc678892a426276ce299362cf0f...</td>\n      <td>pageview</td>\n      <td>NaN</td>\n      <td>NaN</td>\n      <td>1552486639796</td>\n      <td>e396b36a40f2c41d259a45b80e10cd113eb0bf7540b73f...</td>\n    </tr>\n    <tr>\n      <th>997</th>\n      <td>cedfb82a26c27b1f22fdc678892a426276ce299362cf0f...</td>\n      <td>event_product</td>\n      <td>purchase</td>\n      <td>650788beae75cb08d99dd70b3b3f430896d3019ab33d5b...</td>\n      <td>1552486639796</td>\n      <td>e396b36a40f2c41d259a45b80e10cd113eb0bf7540b73f...</td>\n    </tr>\n    <tr>\n      <th>998</th>\n      <td>cedfb82a26c27b1f22fdc678892a426276ce299362cf0f...</td>\n      <td>pageview</td>\n      <td>NaN</td>\n      <td>NaN</td>\n      <td>1552486668837</td>\n      <td>433b0e71df1fe9a8d1f45647545701f6108414c40eef76...</td>\n    </tr>\n  </tbody>\n</table>\n<p>999 rows × 6 columns</p>\n</div>"
     },
     "execution_count": 3,
     "metadata": {},
     "output_type": "execute_result"
    }
   ],
   "source": [
    "browsing_train"
   ],
   "metadata": {
    "collapsed": false
   }
  },
  {
   "cell_type": "code",
   "execution_count": 4,
   "outputs": [
    {
     "data": {
      "text/plain": "                                       session_id_hash  \\\n0    48fade624d47870058ce07dd789ccc04e46c70c0fa2a1b...   \n1    8731ca84ff7bb8cb647531d54e64feedb2519b4a7792a7...   \n2    9be980708345944960645d03606ea83b637cae9106b705...   \n3    9be980708345944960645d03606ea83b637cae9106b705...   \n4    9be980708345944960645d03606ea83b637cae9106b705...   \n..                                                 ...   \n994  549eee772dee1c61b972da84975ebb1f8fbf6bb8893a05...   \n995  6b93e0b6236ad91a1d1af146d735e8a35dbba719e04a05...   \n996  1c1efccd55374434e028bfd836bd672f61ca0dda7d0dc3...   \n997  83f30f5c9dea4c25c72b3230d7b4f690ad50ffed3ac4e8...   \n998  587428e0640e5a433e0d2e065f713cea5b633e1935437e...   \n\n                                          query_vector  \\\n0    [-0.20255649089813232, -0.016908567398786545, ...   \n1    [-0.007610442116856575, -0.14909175038337708, ...   \n2    [-0.20023074746131897, -0.03151938319206238, 0...   \n3    [-0.18556387722492218, -0.07620412111282349, 0...   \n4    [-0.03269264101982117, -0.27234694361686707, 0...   \n..                                                 ...   \n994  [0.10583764314651489, -0.32195770740509033, 0....   \n995  [0.10583764314651489, -0.32195770740509033, 0....   \n996  [0.10583764314651489, -0.32195770740509033, 0....   \n997  [0.10583764314651489, -0.32195770740509033, 0....   \n998  [-0.009125594049692154, 0.1379116177558899, -0...   \n\n                                     clicked_skus_hash  \\\n0                                                  NaN   \n1                                                  NaN   \n2                                                  NaN   \n3                                                  NaN   \n4                                                  NaN   \n..                                                 ...   \n994  ['c2a8bfaed9821ac0c99519783061b0658bb9f7fcd149...   \n995                                                NaN   \n996                                                NaN   \n997  ['c2a8bfaed9821ac0c99519783061b0658bb9f7fcd149...   \n998  ['705f5c4306427c95e5662cf7e913ba906f1074b1cc95...   \n\n                                     product_skus_hash  \\\n0                                                  NaN   \n1    ['9ee9ffd7e2529a65f9a0b0c9eaae6330df85cf2e3af3...   \n2    ['7cc72dbed53bab78ec6a62feaa5052a7a1db7d201664...   \n3    ['62c4ddab6c1c81c74d315376b3c0dc7768c0286b3dc6...   \n4    ['2a0ee2924feabeec35e21e8fcb4d5b0684d190e46cef...   \n..                                                 ...   \n994  ['c2a8bfaed9821ac0c99519783061b0658bb9f7fcd149...   \n995  ['c2a8bfaed9821ac0c99519783061b0658bb9f7fcd149...   \n996  ['c2a8bfaed9821ac0c99519783061b0658bb9f7fcd149...   \n997  ['c2a8bfaed9821ac0c99519783061b0658bb9f7fcd149...   \n998  ['17e0fdc759338ce9b4063fbf587ed552153220956c71...   \n\n     server_timestamp_epoch_ms  \n0                1548575194779  \n1                1548276763869  \n2                1548937997295  \n3                1548938038268  \n4                1548938093827  \n..                         ...  \n994              1549822742354  \n995              1549757261554  \n996              1549763097218  \n997              1549739788634  \n998              1548781759107  \n\n[999 rows x 5 columns]",
      "text/html": "<div>\n<style scoped>\n    .dataframe tbody tr th:only-of-type {\n        vertical-align: middle;\n    }\n\n    .dataframe tbody tr th {\n        vertical-align: top;\n    }\n\n    .dataframe thead th {\n        text-align: right;\n    }\n</style>\n<table border=\"1\" class=\"dataframe\">\n  <thead>\n    <tr style=\"text-align: right;\">\n      <th></th>\n      <th>session_id_hash</th>\n      <th>query_vector</th>\n      <th>clicked_skus_hash</th>\n      <th>product_skus_hash</th>\n      <th>server_timestamp_epoch_ms</th>\n    </tr>\n  </thead>\n  <tbody>\n    <tr>\n      <th>0</th>\n      <td>48fade624d47870058ce07dd789ccc04e46c70c0fa2a1b...</td>\n      <td>[-0.20255649089813232, -0.016908567398786545, ...</td>\n      <td>NaN</td>\n      <td>NaN</td>\n      <td>1548575194779</td>\n    </tr>\n    <tr>\n      <th>1</th>\n      <td>8731ca84ff7bb8cb647531d54e64feedb2519b4a7792a7...</td>\n      <td>[-0.007610442116856575, -0.14909175038337708, ...</td>\n      <td>NaN</td>\n      <td>['9ee9ffd7e2529a65f9a0b0c9eaae6330df85cf2e3af3...</td>\n      <td>1548276763869</td>\n    </tr>\n    <tr>\n      <th>2</th>\n      <td>9be980708345944960645d03606ea83b637cae9106b705...</td>\n      <td>[-0.20023074746131897, -0.03151938319206238, 0...</td>\n      <td>NaN</td>\n      <td>['7cc72dbed53bab78ec6a62feaa5052a7a1db7d201664...</td>\n      <td>1548937997295</td>\n    </tr>\n    <tr>\n      <th>3</th>\n      <td>9be980708345944960645d03606ea83b637cae9106b705...</td>\n      <td>[-0.18556387722492218, -0.07620412111282349, 0...</td>\n      <td>NaN</td>\n      <td>['62c4ddab6c1c81c74d315376b3c0dc7768c0286b3dc6...</td>\n      <td>1548938038268</td>\n    </tr>\n    <tr>\n      <th>4</th>\n      <td>9be980708345944960645d03606ea83b637cae9106b705...</td>\n      <td>[-0.03269264101982117, -0.27234694361686707, 0...</td>\n      <td>NaN</td>\n      <td>['2a0ee2924feabeec35e21e8fcb4d5b0684d190e46cef...</td>\n      <td>1548938093827</td>\n    </tr>\n    <tr>\n      <th>...</th>\n      <td>...</td>\n      <td>...</td>\n      <td>...</td>\n      <td>...</td>\n      <td>...</td>\n    </tr>\n    <tr>\n      <th>994</th>\n      <td>549eee772dee1c61b972da84975ebb1f8fbf6bb8893a05...</td>\n      <td>[0.10583764314651489, -0.32195770740509033, 0....</td>\n      <td>['c2a8bfaed9821ac0c99519783061b0658bb9f7fcd149...</td>\n      <td>['c2a8bfaed9821ac0c99519783061b0658bb9f7fcd149...</td>\n      <td>1549822742354</td>\n    </tr>\n    <tr>\n      <th>995</th>\n      <td>6b93e0b6236ad91a1d1af146d735e8a35dbba719e04a05...</td>\n      <td>[0.10583764314651489, -0.32195770740509033, 0....</td>\n      <td>NaN</td>\n      <td>['c2a8bfaed9821ac0c99519783061b0658bb9f7fcd149...</td>\n      <td>1549757261554</td>\n    </tr>\n    <tr>\n      <th>996</th>\n      <td>1c1efccd55374434e028bfd836bd672f61ca0dda7d0dc3...</td>\n      <td>[0.10583764314651489, -0.32195770740509033, 0....</td>\n      <td>NaN</td>\n      <td>['c2a8bfaed9821ac0c99519783061b0658bb9f7fcd149...</td>\n      <td>1549763097218</td>\n    </tr>\n    <tr>\n      <th>997</th>\n      <td>83f30f5c9dea4c25c72b3230d7b4f690ad50ffed3ac4e8...</td>\n      <td>[0.10583764314651489, -0.32195770740509033, 0....</td>\n      <td>['c2a8bfaed9821ac0c99519783061b0658bb9f7fcd149...</td>\n      <td>['c2a8bfaed9821ac0c99519783061b0658bb9f7fcd149...</td>\n      <td>1549739788634</td>\n    </tr>\n    <tr>\n      <th>998</th>\n      <td>587428e0640e5a433e0d2e065f713cea5b633e1935437e...</td>\n      <td>[-0.009125594049692154, 0.1379116177558899, -0...</td>\n      <td>['705f5c4306427c95e5662cf7e913ba906f1074b1cc95...</td>\n      <td>['17e0fdc759338ce9b4063fbf587ed552153220956c71...</td>\n      <td>1548781759107</td>\n    </tr>\n  </tbody>\n</table>\n<p>999 rows × 5 columns</p>\n</div>"
     },
     "execution_count": 4,
     "metadata": {},
     "output_type": "execute_result"
    }
   ],
   "source": [
    "search_train"
   ],
   "metadata": {
    "collapsed": false
   }
  },
  {
   "cell_type": "code",
   "execution_count": 5,
   "outputs": [
    {
     "data": {
      "text/plain": "                                      product_sku_hash  \\\n0    26ce7b47f4c46e4087e83e54d2f7ddc7ea57862fed2e2a...   \n1    6383992be772b204a9ab75f86c86f5583d1bdd1222952d...   \n2    a2c3e2430c6ef9770b903ad08fa067a6b2b9db28f06e1b...   \n3    1028ef615e425c328e7b95010dfb1fb93cf63749a1bc80...   \n4    9870c682d0d52d635501249da0eeaa118fad430b695ea1...   \n..                                                 ...   \n994  42c7ad32f1f7d4ba1c026219df8fdde052d8a0e0b8f652...   \n995  09cda1dc4242dde911662241b78cb9ba0b2d61e2b2e337...   \n996  2175e5560f7f83887286967bbe632e83c2f50e7903f9c0...   \n997  26002b0bc1cbb1c374ffb7373c21f5884276acdd5e4c1e...   \n998  512a7e245b193e1350d0e586b3cea01c2c28654f4bcf3d...   \n\n                                    description_vector  \\\n0                                                  NaN   \n1                                                  NaN   \n2    [0.27629122138023376, -0.15763211250305176, 0....   \n3    [0.4058118760585785, -0.03595402091741562, 0.2...   \n4    [-0.3206155300140381, 0.01991105079650879, 0.0...   \n..                                                 ...   \n994  [-0.15623541176319122, 0.2608400285243988, 0.0...   \n995                                                NaN   \n996                                                NaN   \n997                                                NaN   \n998                                                NaN   \n\n                                         category_hash  \\\n0                                                  NaN   \n1                                                  NaN   \n2    06fa312761d4b39e2f649781514ac69a4c1505c221fc46...   \n3    115a6a7017ee55752b8487c77dfde92b0d501d10a2e69c...   \n4    0665a81d19c89281cc00e7f7d779ded2ed42c933838602...   \n..                                                 ...   \n994  0665a81d19c89281cc00e7f7d779ded2ed42c933838602...   \n995                                                NaN   \n996                                                NaN   \n997                                                NaN   \n998                                                NaN   \n\n                                          image_vector  price_bucket  \n0                                                  NaN           NaN  \n1                                                  NaN           NaN  \n2    [340.3592564184389, -220.19025864725685, 154.0...           7.0  \n3    [180.3463662921092, 222.702322343354, -8.88703...           8.0  \n4    [-114.81079301576219, 84.55770104232334, 85.51...           2.0  \n..                                                 ...           ...  \n994  [-224.70478392545985, -148.41778705872497, -21...           7.0  \n995                                                NaN           NaN  \n996                                                NaN           NaN  \n997                                                NaN           NaN  \n998                                                NaN           NaN  \n\n[999 rows x 5 columns]",
      "text/html": "<div>\n<style scoped>\n    .dataframe tbody tr th:only-of-type {\n        vertical-align: middle;\n    }\n\n    .dataframe tbody tr th {\n        vertical-align: top;\n    }\n\n    .dataframe thead th {\n        text-align: right;\n    }\n</style>\n<table border=\"1\" class=\"dataframe\">\n  <thead>\n    <tr style=\"text-align: right;\">\n      <th></th>\n      <th>product_sku_hash</th>\n      <th>description_vector</th>\n      <th>category_hash</th>\n      <th>image_vector</th>\n      <th>price_bucket</th>\n    </tr>\n  </thead>\n  <tbody>\n    <tr>\n      <th>0</th>\n      <td>26ce7b47f4c46e4087e83e54d2f7ddc7ea57862fed2e2a...</td>\n      <td>NaN</td>\n      <td>NaN</td>\n      <td>NaN</td>\n      <td>NaN</td>\n    </tr>\n    <tr>\n      <th>1</th>\n      <td>6383992be772b204a9ab75f86c86f5583d1bdd1222952d...</td>\n      <td>NaN</td>\n      <td>NaN</td>\n      <td>NaN</td>\n      <td>NaN</td>\n    </tr>\n    <tr>\n      <th>2</th>\n      <td>a2c3e2430c6ef9770b903ad08fa067a6b2b9db28f06e1b...</td>\n      <td>[0.27629122138023376, -0.15763211250305176, 0....</td>\n      <td>06fa312761d4b39e2f649781514ac69a4c1505c221fc46...</td>\n      <td>[340.3592564184389, -220.19025864725685, 154.0...</td>\n      <td>7.0</td>\n    </tr>\n    <tr>\n      <th>3</th>\n      <td>1028ef615e425c328e7b95010dfb1fb93cf63749a1bc80...</td>\n      <td>[0.4058118760585785, -0.03595402091741562, 0.2...</td>\n      <td>115a6a7017ee55752b8487c77dfde92b0d501d10a2e69c...</td>\n      <td>[180.3463662921092, 222.702322343354, -8.88703...</td>\n      <td>8.0</td>\n    </tr>\n    <tr>\n      <th>4</th>\n      <td>9870c682d0d52d635501249da0eeaa118fad430b695ea1...</td>\n      <td>[-0.3206155300140381, 0.01991105079650879, 0.0...</td>\n      <td>0665a81d19c89281cc00e7f7d779ded2ed42c933838602...</td>\n      <td>[-114.81079301576219, 84.55770104232334, 85.51...</td>\n      <td>2.0</td>\n    </tr>\n    <tr>\n      <th>...</th>\n      <td>...</td>\n      <td>...</td>\n      <td>...</td>\n      <td>...</td>\n      <td>...</td>\n    </tr>\n    <tr>\n      <th>994</th>\n      <td>42c7ad32f1f7d4ba1c026219df8fdde052d8a0e0b8f652...</td>\n      <td>[-0.15623541176319122, 0.2608400285243988, 0.0...</td>\n      <td>0665a81d19c89281cc00e7f7d779ded2ed42c933838602...</td>\n      <td>[-224.70478392545985, -148.41778705872497, -21...</td>\n      <td>7.0</td>\n    </tr>\n    <tr>\n      <th>995</th>\n      <td>09cda1dc4242dde911662241b78cb9ba0b2d61e2b2e337...</td>\n      <td>NaN</td>\n      <td>NaN</td>\n      <td>NaN</td>\n      <td>NaN</td>\n    </tr>\n    <tr>\n      <th>996</th>\n      <td>2175e5560f7f83887286967bbe632e83c2f50e7903f9c0...</td>\n      <td>NaN</td>\n      <td>NaN</td>\n      <td>NaN</td>\n      <td>NaN</td>\n    </tr>\n    <tr>\n      <th>997</th>\n      <td>26002b0bc1cbb1c374ffb7373c21f5884276acdd5e4c1e...</td>\n      <td>NaN</td>\n      <td>NaN</td>\n      <td>NaN</td>\n      <td>NaN</td>\n    </tr>\n    <tr>\n      <th>998</th>\n      <td>512a7e245b193e1350d0e586b3cea01c2c28654f4bcf3d...</td>\n      <td>NaN</td>\n      <td>NaN</td>\n      <td>NaN</td>\n      <td>NaN</td>\n    </tr>\n  </tbody>\n</table>\n<p>999 rows × 5 columns</p>\n</div>"
     },
     "execution_count": 5,
     "metadata": {},
     "output_type": "execute_result"
    }
   ],
   "source": [
    "sku_to_content"
   ],
   "metadata": {
    "collapsed": false
   }
  },
  {
   "cell_type": "markdown",
   "source": [
    "Convert vectors to list"
   ],
   "metadata": {
    "collapsed": false
   }
  },
  {
   "cell_type": "code",
   "execution_count": 6,
   "outputs": [],
   "source": [
    "import ast\n",
    "def convert_str_to_list(x):\n",
    "    if pd.isnull(x):\n",
    "        return x\n",
    "    return ast.literal_eval(x)\n",
    "\n",
    "search_train['clicked_skus_hash'] = search_train['clicked_skus_hash'].apply(convert_str_to_list)\n",
    "search_train['product_skus_hash'] = search_train['product_skus_hash'].apply(convert_str_to_list)\n",
    "search_train['query_vector'] = search_train['query_vector'].apply(convert_str_to_list)\n",
    "\n",
    "def convert_str_to_pdarray(x):\n",
    "    if pd.isnull(x):\n",
    "        return x\n",
    "    list_x = ast.literal_eval(x)\n",
    "    return pd.array(data=list_x, dtype=float)\n",
    "\n",
    "sku_to_content['description_vector'] = sku_to_content['description_vector'].apply(convert_str_to_pdarray)\n",
    "sku_to_content['image_vector'] = sku_to_content['image_vector'].apply(convert_str_to_pdarray)"
   ],
   "metadata": {
    "collapsed": false
   }
  },
  {
   "cell_type": "markdown",
   "source": [
    "Filter browsing interactions"
   ],
   "metadata": {
    "collapsed": false
   }
  },
  {
   "cell_type": "code",
   "execution_count": 7,
   "outputs": [
    {
     "data": {
      "text/plain": "                                       session_id_hash     event_type  \\\n0    20c458b802f6ea9374783bfc528b19421be977a6769785...  event_product   \n1    20c458b802f6ea9374783bfc528b19421be977a6769785...  event_product   \n3    20c458b802f6ea9374783bfc528b19421be977a6769785...  event_product   \n5    20c458b802f6ea9374783bfc528b19421be977a6769785...       pageview   \n7    20c458b802f6ea9374783bfc528b19421be977a6769785...  event_product   \n..                                                 ...            ...   \n993  cedfb82a26c27b1f22fdc678892a426276ce299362cf0f...  event_product   \n994  cedfb82a26c27b1f22fdc678892a426276ce299362cf0f...  event_product   \n995  cedfb82a26c27b1f22fdc678892a426276ce299362cf0f...       pageview   \n997  cedfb82a26c27b1f22fdc678892a426276ce299362cf0f...  event_product   \n998  cedfb82a26c27b1f22fdc678892a426276ce299362cf0f...       pageview   \n\n    product_action                                   product_sku_hash  \\\n0           detail  d5157f8bc52965390fa21ad5842a8502bc3eb8b0930f3f...   \n1           detail  61ef3869355b78e11011f39fc7ac8f8dfb209b3442a9d5...   \n3           detail  d5157f8bc52965390fa21ad5842a8502bc3eb8b0930f3f...   \n5              NaN                                                NaN   \n7           detail  d5157f8bc52965390fa21ad5842a8502bc3eb8b0930f3f...   \n..             ...                                                ...   \n993         detail  650788beae75cb08d99dd70b3b3f430896d3019ab33d5b...   \n994            add  650788beae75cb08d99dd70b3b3f430896d3019ab33d5b...   \n995            NaN                                                NaN   \n997       purchase  650788beae75cb08d99dd70b3b3f430896d3019ab33d5b...   \n998            NaN                                                NaN   \n\n     server_timestamp_epoch_ms  \\\n0                1550885210881   \n1                1550885213307   \n3                1550885215484   \n5                1550885234192   \n7                1550885304014   \n..                         ...   \n993              1552485227266   \n994              1552486180070   \n995              1552486183972   \n997              1552486639796   \n998              1552486668837   \n\n                                            hashed_url  \n0    7e4527ac6a32deed4f4f06bb7c49b907b7ca371e59d57d...  \n1    4ed279f4f0deab6dfc80f4f7bf49d527fd894fa478a9ce...  \n3    7e4527ac6a32deed4f4f06bb7c49b907b7ca371e59d57d...  \n5    45ee51e47bb1c2e5fe1c0563d1ead53b602a7d0c68e85f...  \n7    7e4527ac6a32deed4f4f06bb7c49b907b7ca371e59d57d...  \n..                                                 ...  \n993  c75fd8e465f5f111b5c42e75afd0c92a1b2b9068c25672...  \n994  83b4fdad686c1be4eba335f70d23ae202b84b6153e109e...  \n995  0ad6fab1eb3ac76010ea2fa6399a4e993b00f6501c88a2...  \n997  e396b36a40f2c41d259a45b80e10cd113eb0bf7540b73f...  \n998  433b0e71df1fe9a8d1f45647545701f6108414c40eef76...  \n\n[745 rows x 6 columns]",
      "text/html": "<div>\n<style scoped>\n    .dataframe tbody tr th:only-of-type {\n        vertical-align: middle;\n    }\n\n    .dataframe tbody tr th {\n        vertical-align: top;\n    }\n\n    .dataframe thead th {\n        text-align: right;\n    }\n</style>\n<table border=\"1\" class=\"dataframe\">\n  <thead>\n    <tr style=\"text-align: right;\">\n      <th></th>\n      <th>session_id_hash</th>\n      <th>event_type</th>\n      <th>product_action</th>\n      <th>product_sku_hash</th>\n      <th>server_timestamp_epoch_ms</th>\n      <th>hashed_url</th>\n    </tr>\n  </thead>\n  <tbody>\n    <tr>\n      <th>0</th>\n      <td>20c458b802f6ea9374783bfc528b19421be977a6769785...</td>\n      <td>event_product</td>\n      <td>detail</td>\n      <td>d5157f8bc52965390fa21ad5842a8502bc3eb8b0930f3f...</td>\n      <td>1550885210881</td>\n      <td>7e4527ac6a32deed4f4f06bb7c49b907b7ca371e59d57d...</td>\n    </tr>\n    <tr>\n      <th>1</th>\n      <td>20c458b802f6ea9374783bfc528b19421be977a6769785...</td>\n      <td>event_product</td>\n      <td>detail</td>\n      <td>61ef3869355b78e11011f39fc7ac8f8dfb209b3442a9d5...</td>\n      <td>1550885213307</td>\n      <td>4ed279f4f0deab6dfc80f4f7bf49d527fd894fa478a9ce...</td>\n    </tr>\n    <tr>\n      <th>3</th>\n      <td>20c458b802f6ea9374783bfc528b19421be977a6769785...</td>\n      <td>event_product</td>\n      <td>detail</td>\n      <td>d5157f8bc52965390fa21ad5842a8502bc3eb8b0930f3f...</td>\n      <td>1550885215484</td>\n      <td>7e4527ac6a32deed4f4f06bb7c49b907b7ca371e59d57d...</td>\n    </tr>\n    <tr>\n      <th>5</th>\n      <td>20c458b802f6ea9374783bfc528b19421be977a6769785...</td>\n      <td>pageview</td>\n      <td>NaN</td>\n      <td>NaN</td>\n      <td>1550885234192</td>\n      <td>45ee51e47bb1c2e5fe1c0563d1ead53b602a7d0c68e85f...</td>\n    </tr>\n    <tr>\n      <th>7</th>\n      <td>20c458b802f6ea9374783bfc528b19421be977a6769785...</td>\n      <td>event_product</td>\n      <td>detail</td>\n      <td>d5157f8bc52965390fa21ad5842a8502bc3eb8b0930f3f...</td>\n      <td>1550885304014</td>\n      <td>7e4527ac6a32deed4f4f06bb7c49b907b7ca371e59d57d...</td>\n    </tr>\n    <tr>\n      <th>...</th>\n      <td>...</td>\n      <td>...</td>\n      <td>...</td>\n      <td>...</td>\n      <td>...</td>\n      <td>...</td>\n    </tr>\n    <tr>\n      <th>993</th>\n      <td>cedfb82a26c27b1f22fdc678892a426276ce299362cf0f...</td>\n      <td>event_product</td>\n      <td>detail</td>\n      <td>650788beae75cb08d99dd70b3b3f430896d3019ab33d5b...</td>\n      <td>1552485227266</td>\n      <td>c75fd8e465f5f111b5c42e75afd0c92a1b2b9068c25672...</td>\n    </tr>\n    <tr>\n      <th>994</th>\n      <td>cedfb82a26c27b1f22fdc678892a426276ce299362cf0f...</td>\n      <td>event_product</td>\n      <td>add</td>\n      <td>650788beae75cb08d99dd70b3b3f430896d3019ab33d5b...</td>\n      <td>1552486180070</td>\n      <td>83b4fdad686c1be4eba335f70d23ae202b84b6153e109e...</td>\n    </tr>\n    <tr>\n      <th>995</th>\n      <td>cedfb82a26c27b1f22fdc678892a426276ce299362cf0f...</td>\n      <td>pageview</td>\n      <td>NaN</td>\n      <td>NaN</td>\n      <td>1552486183972</td>\n      <td>0ad6fab1eb3ac76010ea2fa6399a4e993b00f6501c88a2...</td>\n    </tr>\n    <tr>\n      <th>997</th>\n      <td>cedfb82a26c27b1f22fdc678892a426276ce299362cf0f...</td>\n      <td>event_product</td>\n      <td>purchase</td>\n      <td>650788beae75cb08d99dd70b3b3f430896d3019ab33d5b...</td>\n      <td>1552486639796</td>\n      <td>e396b36a40f2c41d259a45b80e10cd113eb0bf7540b73f...</td>\n    </tr>\n    <tr>\n      <th>998</th>\n      <td>cedfb82a26c27b1f22fdc678892a426276ce299362cf0f...</td>\n      <td>pageview</td>\n      <td>NaN</td>\n      <td>NaN</td>\n      <td>1552486668837</td>\n      <td>433b0e71df1fe9a8d1f45647545701f6108414c40eef76...</td>\n    </tr>\n  </tbody>\n</table>\n<p>745 rows × 6 columns</p>\n</div>"
     },
     "execution_count": 7,
     "metadata": {},
     "output_type": "execute_result"
    }
   ],
   "source": [
    "# drop duplicated rows\n",
    "browsing_train.drop_duplicates(inplace=True)\n",
    "# Remove indices of 'pageview' interactions from duplicated events defined above\n",
    "tmp = browsing_train[(browsing_train.event_type == 'pageview') & (browsing_train.duplicated(['session_id_hash' , 'server_timestamp_epoch_ms'], keep=\"first\"))]\n",
    "browsing_train.drop(tmp.index, inplace=True)\n",
    "\n",
    "tmp2 = browsing_train[(browsing_train.event_type == 'pageview') & (browsing_train.duplicated(['session_id_hash' , 'server_timestamp_epoch_ms'], keep=\"last\"))]\n",
    "browsing_train.drop(tmp2.index, inplace=True)\n",
    "\n",
    "browsing_train"
   ],
   "metadata": {
    "collapsed": false
   }
  },
  {
   "cell_type": "code",
   "execution_count": 8,
   "outputs": [
    {
     "data": {
      "text/plain": "pageview         487\nevent_product    258\nName: event_type, dtype: int64"
     },
     "execution_count": 8,
     "metadata": {},
     "output_type": "execute_result"
    }
   ],
   "source": [
    "browsing_train.event_type.value_counts()"
   ],
   "metadata": {
    "collapsed": false
   }
  },
  {
   "cell_type": "markdown",
   "source": [
    "Add Search clicks to interactions"
   ],
   "metadata": {
    "collapsed": false
   }
  },
  {
   "cell_type": "code",
   "execution_count": 9,
   "outputs": [
    {
     "data": {
      "text/plain": "                                       session_id_hash  \\\n12   77d604ce112a107ffe3e60566778d090a0b756bcfb0a3e...   \n13   7fc129b5945b2959339da1c0675d9c9adcdbc1fc99a954...   \n18   3ef3f3170f85ae92b01378b2161f5e71f64caadbeefd90...   \n19   3ef3f3170f85ae92b01378b2161f5e71f64caadbeefd90...   \n22   8bb021a4d58b148cf577ecbe28aafa7d8a6b03caf6a637...   \n..                                                 ...   \n980  bcbbe88057c249e72e980b2b3de47ecb618d0e75e31446...   \n981  bcbbe88057c249e72e980b2b3de47ecb618d0e75e31446...   \n994  549eee772dee1c61b972da84975ebb1f8fbf6bb8893a05...   \n997  83f30f5c9dea4c25c72b3230d7b4f690ad50ffed3ac4e8...   \n998  587428e0640e5a433e0d2e065f713cea5b633e1935437e...   \n\n                                     clicked_skus_hash  \\\n12   [20e8f1c4051a6c55122bd00f25f92f91b5f125497b793...   \n13   [8283e8b59c283c3b72462a6f73084683524f4b0149acb...   \n18   [2901d00c55fc2e4e60ea0d0e7a48ee843491e31025afa...   \n19   [3983d0cd10e567317005f8f47d3592beb8aceeca2dcb2...   \n22   [ea64b218fb45c07968ebc85129b2dfe4b22f83176c988...   \n..                                                 ...   \n980  [365ac804d3ae81df0af645c850c26db087465cf0aad07...   \n981  [0fe582f7fa11db37912c7ce21f397626968e8c7668e05...   \n994  [c2a8bfaed9821ac0c99519783061b0658bb9f7fcd1497...   \n997  [c2a8bfaed9821ac0c99519783061b0658bb9f7fcd1497...   \n998  [705f5c4306427c95e5662cf7e913ba906f1074b1cc953...   \n\n     server_timestamp_epoch_ms     event_type product_action  \n12               1549078957672  event_product          click  \n13               1550003058242  event_product          click  \n18               1549641526668  event_product          click  \n19               1549641612879  event_product          click  \n22               1549083152469  event_product          click  \n..                         ...            ...            ...  \n980              1548346988664  event_product          click  \n981              1548347016445  event_product          click  \n994              1549822742354  event_product          click  \n997              1549739788634  event_product          click  \n998              1548781759107  event_product          click  \n\n[173 rows x 5 columns]",
      "text/html": "<div>\n<style scoped>\n    .dataframe tbody tr th:only-of-type {\n        vertical-align: middle;\n    }\n\n    .dataframe tbody tr th {\n        vertical-align: top;\n    }\n\n    .dataframe thead th {\n        text-align: right;\n    }\n</style>\n<table border=\"1\" class=\"dataframe\">\n  <thead>\n    <tr style=\"text-align: right;\">\n      <th></th>\n      <th>session_id_hash</th>\n      <th>clicked_skus_hash</th>\n      <th>server_timestamp_epoch_ms</th>\n      <th>event_type</th>\n      <th>product_action</th>\n    </tr>\n  </thead>\n  <tbody>\n    <tr>\n      <th>12</th>\n      <td>77d604ce112a107ffe3e60566778d090a0b756bcfb0a3e...</td>\n      <td>[20e8f1c4051a6c55122bd00f25f92f91b5f125497b793...</td>\n      <td>1549078957672</td>\n      <td>event_product</td>\n      <td>click</td>\n    </tr>\n    <tr>\n      <th>13</th>\n      <td>7fc129b5945b2959339da1c0675d9c9adcdbc1fc99a954...</td>\n      <td>[8283e8b59c283c3b72462a6f73084683524f4b0149acb...</td>\n      <td>1550003058242</td>\n      <td>event_product</td>\n      <td>click</td>\n    </tr>\n    <tr>\n      <th>18</th>\n      <td>3ef3f3170f85ae92b01378b2161f5e71f64caadbeefd90...</td>\n      <td>[2901d00c55fc2e4e60ea0d0e7a48ee843491e31025afa...</td>\n      <td>1549641526668</td>\n      <td>event_product</td>\n      <td>click</td>\n    </tr>\n    <tr>\n      <th>19</th>\n      <td>3ef3f3170f85ae92b01378b2161f5e71f64caadbeefd90...</td>\n      <td>[3983d0cd10e567317005f8f47d3592beb8aceeca2dcb2...</td>\n      <td>1549641612879</td>\n      <td>event_product</td>\n      <td>click</td>\n    </tr>\n    <tr>\n      <th>22</th>\n      <td>8bb021a4d58b148cf577ecbe28aafa7d8a6b03caf6a637...</td>\n      <td>[ea64b218fb45c07968ebc85129b2dfe4b22f83176c988...</td>\n      <td>1549083152469</td>\n      <td>event_product</td>\n      <td>click</td>\n    </tr>\n    <tr>\n      <th>...</th>\n      <td>...</td>\n      <td>...</td>\n      <td>...</td>\n      <td>...</td>\n      <td>...</td>\n    </tr>\n    <tr>\n      <th>980</th>\n      <td>bcbbe88057c249e72e980b2b3de47ecb618d0e75e31446...</td>\n      <td>[365ac804d3ae81df0af645c850c26db087465cf0aad07...</td>\n      <td>1548346988664</td>\n      <td>event_product</td>\n      <td>click</td>\n    </tr>\n    <tr>\n      <th>981</th>\n      <td>bcbbe88057c249e72e980b2b3de47ecb618d0e75e31446...</td>\n      <td>[0fe582f7fa11db37912c7ce21f397626968e8c7668e05...</td>\n      <td>1548347016445</td>\n      <td>event_product</td>\n      <td>click</td>\n    </tr>\n    <tr>\n      <th>994</th>\n      <td>549eee772dee1c61b972da84975ebb1f8fbf6bb8893a05...</td>\n      <td>[c2a8bfaed9821ac0c99519783061b0658bb9f7fcd1497...</td>\n      <td>1549822742354</td>\n      <td>event_product</td>\n      <td>click</td>\n    </tr>\n    <tr>\n      <th>997</th>\n      <td>83f30f5c9dea4c25c72b3230d7b4f690ad50ffed3ac4e8...</td>\n      <td>[c2a8bfaed9821ac0c99519783061b0658bb9f7fcd1497...</td>\n      <td>1549739788634</td>\n      <td>event_product</td>\n      <td>click</td>\n    </tr>\n    <tr>\n      <th>998</th>\n      <td>587428e0640e5a433e0d2e065f713cea5b633e1935437e...</td>\n      <td>[705f5c4306427c95e5662cf7e913ba906f1074b1cc953...</td>\n      <td>1548781759107</td>\n      <td>event_product</td>\n      <td>click</td>\n    </tr>\n  </tbody>\n</table>\n<p>173 rows × 5 columns</p>\n</div>"
     },
     "execution_count": 9,
     "metadata": {},
     "output_type": "execute_result"
    }
   ],
   "source": [
    "search_clicks = search_train[['session_id_hash', 'clicked_skus_hash', 'server_timestamp_epoch_ms']].copy()\n",
    "search_clicks['event_type'] = 'event_product'\n",
    "search_clicks['product_action'] = 'click'\n",
    "search_clicks = search_clicks[search_clicks['clicked_skus_hash'].notnull()]\n",
    "search_clicks"
   ],
   "metadata": {
    "collapsed": false
   }
  },
  {
   "cell_type": "code",
   "execution_count": 10,
   "outputs": [
    {
     "data": {
      "text/plain": "                                       session_id_hash  \\\n0    77d604ce112a107ffe3e60566778d090a0b756bcfb0a3e...   \n1    7fc129b5945b2959339da1c0675d9c9adcdbc1fc99a954...   \n2    3ef3f3170f85ae92b01378b2161f5e71f64caadbeefd90...   \n3    3ef3f3170f85ae92b01378b2161f5e71f64caadbeefd90...   \n4    3ef3f3170f85ae92b01378b2161f5e71f64caadbeefd90...   \n..                                                 ...   \n911  549eee772dee1c61b972da84975ebb1f8fbf6bb8893a05...   \n912  83f30f5c9dea4c25c72b3230d7b4f690ad50ffed3ac4e8...   \n913  83f30f5c9dea4c25c72b3230d7b4f690ad50ffed3ac4e8...   \n914  83f30f5c9dea4c25c72b3230d7b4f690ad50ffed3ac4e8...   \n915  587428e0640e5a433e0d2e065f713cea5b633e1935437e...   \n\n                                      product_sku_hash  \\\n0    20e8f1c4051a6c55122bd00f25f92f91b5f125497b7939...   \n1    8283e8b59c283c3b72462a6f73084683524f4b0149acb7...   \n2    2901d00c55fc2e4e60ea0d0e7a48ee843491e31025afab...   \n3    f706d1c864e7153a637add15e2bbb25fb8a1e3eb04c510...   \n4    3983d0cd10e567317005f8f47d3592beb8aceeca2dcb28...   \n..                                                 ...   \n911  c2a8bfaed9821ac0c99519783061b0658bb9f7fcd14975...   \n912  c2a8bfaed9821ac0c99519783061b0658bb9f7fcd14975...   \n913  e9e392a2aada64b846f29093b523eb4b3bdb93bfca433c...   \n914  c2a8bfaed9821ac0c99519783061b0658bb9f7fcd14975...   \n915  705f5c4306427c95e5662cf7e913ba906f1074b1cc953e...   \n\n     server_timestamp_epoch_ms     event_type product_action  \\\n0                1549078957672  event_product          click   \n1                1550003058242  event_product          click   \n2                1549641526668  event_product          click   \n3                1549641526668  event_product          click   \n4                1549641612879  event_product          click   \n..                         ...            ...            ...   \n911              1549822742354  event_product          click   \n912              1549739788634  event_product          click   \n913              1549739788634  event_product          click   \n914              1549739788634  event_product          click   \n915              1548781759107  event_product          click   \n\n                                            hashed_url  \n0    20e8f1c4051a6c55122bd00f25f92f91b5f125497b7939...  \n1    8283e8b59c283c3b72462a6f73084683524f4b0149acb7...  \n2    2901d00c55fc2e4e60ea0d0e7a48ee843491e31025afab...  \n3    f706d1c864e7153a637add15e2bbb25fb8a1e3eb04c510...  \n4    3983d0cd10e567317005f8f47d3592beb8aceeca2dcb28...  \n..                                                 ...  \n911  c2a8bfaed9821ac0c99519783061b0658bb9f7fcd14975...  \n912  c2a8bfaed9821ac0c99519783061b0658bb9f7fcd14975...  \n913  e9e392a2aada64b846f29093b523eb4b3bdb93bfca433c...  \n914  c2a8bfaed9821ac0c99519783061b0658bb9f7fcd14975...  \n915  705f5c4306427c95e5662cf7e913ba906f1074b1cc953e...  \n\n[916 rows x 6 columns]",
      "text/html": "<div>\n<style scoped>\n    .dataframe tbody tr th:only-of-type {\n        vertical-align: middle;\n    }\n\n    .dataframe tbody tr th {\n        vertical-align: top;\n    }\n\n    .dataframe thead th {\n        text-align: right;\n    }\n</style>\n<table border=\"1\" class=\"dataframe\">\n  <thead>\n    <tr style=\"text-align: right;\">\n      <th></th>\n      <th>session_id_hash</th>\n      <th>product_sku_hash</th>\n      <th>server_timestamp_epoch_ms</th>\n      <th>event_type</th>\n      <th>product_action</th>\n      <th>hashed_url</th>\n    </tr>\n  </thead>\n  <tbody>\n    <tr>\n      <th>0</th>\n      <td>77d604ce112a107ffe3e60566778d090a0b756bcfb0a3e...</td>\n      <td>20e8f1c4051a6c55122bd00f25f92f91b5f125497b7939...</td>\n      <td>1549078957672</td>\n      <td>event_product</td>\n      <td>click</td>\n      <td>20e8f1c4051a6c55122bd00f25f92f91b5f125497b7939...</td>\n    </tr>\n    <tr>\n      <th>1</th>\n      <td>7fc129b5945b2959339da1c0675d9c9adcdbc1fc99a954...</td>\n      <td>8283e8b59c283c3b72462a6f73084683524f4b0149acb7...</td>\n      <td>1550003058242</td>\n      <td>event_product</td>\n      <td>click</td>\n      <td>8283e8b59c283c3b72462a6f73084683524f4b0149acb7...</td>\n    </tr>\n    <tr>\n      <th>2</th>\n      <td>3ef3f3170f85ae92b01378b2161f5e71f64caadbeefd90...</td>\n      <td>2901d00c55fc2e4e60ea0d0e7a48ee843491e31025afab...</td>\n      <td>1549641526668</td>\n      <td>event_product</td>\n      <td>click</td>\n      <td>2901d00c55fc2e4e60ea0d0e7a48ee843491e31025afab...</td>\n    </tr>\n    <tr>\n      <th>3</th>\n      <td>3ef3f3170f85ae92b01378b2161f5e71f64caadbeefd90...</td>\n      <td>f706d1c864e7153a637add15e2bbb25fb8a1e3eb04c510...</td>\n      <td>1549641526668</td>\n      <td>event_product</td>\n      <td>click</td>\n      <td>f706d1c864e7153a637add15e2bbb25fb8a1e3eb04c510...</td>\n    </tr>\n    <tr>\n      <th>4</th>\n      <td>3ef3f3170f85ae92b01378b2161f5e71f64caadbeefd90...</td>\n      <td>3983d0cd10e567317005f8f47d3592beb8aceeca2dcb28...</td>\n      <td>1549641612879</td>\n      <td>event_product</td>\n      <td>click</td>\n      <td>3983d0cd10e567317005f8f47d3592beb8aceeca2dcb28...</td>\n    </tr>\n    <tr>\n      <th>...</th>\n      <td>...</td>\n      <td>...</td>\n      <td>...</td>\n      <td>...</td>\n      <td>...</td>\n      <td>...</td>\n    </tr>\n    <tr>\n      <th>911</th>\n      <td>549eee772dee1c61b972da84975ebb1f8fbf6bb8893a05...</td>\n      <td>c2a8bfaed9821ac0c99519783061b0658bb9f7fcd14975...</td>\n      <td>1549822742354</td>\n      <td>event_product</td>\n      <td>click</td>\n      <td>c2a8bfaed9821ac0c99519783061b0658bb9f7fcd14975...</td>\n    </tr>\n    <tr>\n      <th>912</th>\n      <td>83f30f5c9dea4c25c72b3230d7b4f690ad50ffed3ac4e8...</td>\n      <td>c2a8bfaed9821ac0c99519783061b0658bb9f7fcd14975...</td>\n      <td>1549739788634</td>\n      <td>event_product</td>\n      <td>click</td>\n      <td>c2a8bfaed9821ac0c99519783061b0658bb9f7fcd14975...</td>\n    </tr>\n    <tr>\n      <th>913</th>\n      <td>83f30f5c9dea4c25c72b3230d7b4f690ad50ffed3ac4e8...</td>\n      <td>e9e392a2aada64b846f29093b523eb4b3bdb93bfca433c...</td>\n      <td>1549739788634</td>\n      <td>event_product</td>\n      <td>click</td>\n      <td>e9e392a2aada64b846f29093b523eb4b3bdb93bfca433c...</td>\n    </tr>\n    <tr>\n      <th>914</th>\n      <td>83f30f5c9dea4c25c72b3230d7b4f690ad50ffed3ac4e8...</td>\n      <td>c2a8bfaed9821ac0c99519783061b0658bb9f7fcd14975...</td>\n      <td>1549739788634</td>\n      <td>event_product</td>\n      <td>click</td>\n      <td>c2a8bfaed9821ac0c99519783061b0658bb9f7fcd14975...</td>\n    </tr>\n    <tr>\n      <th>915</th>\n      <td>587428e0640e5a433e0d2e065f713cea5b633e1935437e...</td>\n      <td>705f5c4306427c95e5662cf7e913ba906f1074b1cc953e...</td>\n      <td>1548781759107</td>\n      <td>event_product</td>\n      <td>click</td>\n      <td>705f5c4306427c95e5662cf7e913ba906f1074b1cc953e...</td>\n    </tr>\n  </tbody>\n</table>\n<p>916 rows × 6 columns</p>\n</div>"
     },
     "execution_count": 10,
     "metadata": {},
     "output_type": "execute_result"
    }
   ],
   "source": [
    "#unstack list of clicked items to multiple rows\n",
    "lst_col = 'clicked_skus_hash'\n",
    "search_clicks = pd.DataFrame({\n",
    "    col:np.repeat(search_clicks[col].values, search_clicks[lst_col].str.len()) for col in search_clicks.columns.difference([lst_col])}).assign(\n",
    "    **{lst_col:np.concatenate(search_clicks[lst_col].values)})[search_clicks.columns.tolist()]\n",
    "\n",
    "search_clicks.columns = ['session_id_hash', 'product_sku_hash', 'server_timestamp_epoch_ms',\n",
    "                         'event_type', 'product_action']\n",
    "search_clicks['hashed_url'] = search_clicks['product_sku_hash']\n",
    "search_clicks"
   ],
   "metadata": {
    "collapsed": false
   }
  },
  {
   "cell_type": "code",
   "execution_count": 11,
   "outputs": [
    {
     "data": {
      "text/plain": "                                       session_id_hash  \\\n0    77d604ce112a107ffe3e60566778d090a0b756bcfb0a3e...   \n1    7fc129b5945b2959339da1c0675d9c9adcdbc1fc99a954...   \n2    3ef3f3170f85ae92b01378b2161f5e71f64caadbeefd90...   \n3    3ef3f3170f85ae92b01378b2161f5e71f64caadbeefd90...   \n4    3ef3f3170f85ae92b01378b2161f5e71f64caadbeefd90...   \n..                                                 ...   \n910  bcbbe88057c249e72e980b2b3de47ecb618d0e75e31446...   \n911  549eee772dee1c61b972da84975ebb1f8fbf6bb8893a05...   \n912  83f30f5c9dea4c25c72b3230d7b4f690ad50ffed3ac4e8...   \n913  83f30f5c9dea4c25c72b3230d7b4f690ad50ffed3ac4e8...   \n915  587428e0640e5a433e0d2e065f713cea5b633e1935437e...   \n\n                                      product_sku_hash  \\\n0    20e8f1c4051a6c55122bd00f25f92f91b5f125497b7939...   \n1    8283e8b59c283c3b72462a6f73084683524f4b0149acb7...   \n2    2901d00c55fc2e4e60ea0d0e7a48ee843491e31025afab...   \n3    f706d1c864e7153a637add15e2bbb25fb8a1e3eb04c510...   \n4    3983d0cd10e567317005f8f47d3592beb8aceeca2dcb28...   \n..                                                 ...   \n910  0fe582f7fa11db37912c7ce21f397626968e8c7668e057...   \n911  c2a8bfaed9821ac0c99519783061b0658bb9f7fcd14975...   \n912  c2a8bfaed9821ac0c99519783061b0658bb9f7fcd14975...   \n913  e9e392a2aada64b846f29093b523eb4b3bdb93bfca433c...   \n915  705f5c4306427c95e5662cf7e913ba906f1074b1cc953e...   \n\n     server_timestamp_epoch_ms     event_type product_action  \\\n0                1549078957672  event_product          click   \n1                1550003058242  event_product          click   \n2                1549641526668  event_product          click   \n3                1549641526668  event_product          click   \n4                1549641612879  event_product          click   \n..                         ...            ...            ...   \n910              1548347016445  event_product          click   \n911              1549822742354  event_product          click   \n912              1549739788634  event_product          click   \n913              1549739788634  event_product          click   \n915              1548781759107  event_product          click   \n\n                                            hashed_url  \n0    20e8f1c4051a6c55122bd00f25f92f91b5f125497b7939...  \n1    8283e8b59c283c3b72462a6f73084683524f4b0149acb7...  \n2    2901d00c55fc2e4e60ea0d0e7a48ee843491e31025afab...  \n3    f706d1c864e7153a637add15e2bbb25fb8a1e3eb04c510...  \n4    3983d0cd10e567317005f8f47d3592beb8aceeca2dcb28...  \n..                                                 ...  \n910  0fe582f7fa11db37912c7ce21f397626968e8c7668e057...  \n911  c2a8bfaed9821ac0c99519783061b0658bb9f7fcd14975...  \n912  c2a8bfaed9821ac0c99519783061b0658bb9f7fcd14975...  \n913  e9e392a2aada64b846f29093b523eb4b3bdb93bfca433c...  \n915  705f5c4306427c95e5662cf7e913ba906f1074b1cc953e...  \n\n[235 rows x 6 columns]",
      "text/html": "<div>\n<style scoped>\n    .dataframe tbody tr th:only-of-type {\n        vertical-align: middle;\n    }\n\n    .dataframe tbody tr th {\n        vertical-align: top;\n    }\n\n    .dataframe thead th {\n        text-align: right;\n    }\n</style>\n<table border=\"1\" class=\"dataframe\">\n  <thead>\n    <tr style=\"text-align: right;\">\n      <th></th>\n      <th>session_id_hash</th>\n      <th>product_sku_hash</th>\n      <th>server_timestamp_epoch_ms</th>\n      <th>event_type</th>\n      <th>product_action</th>\n      <th>hashed_url</th>\n    </tr>\n  </thead>\n  <tbody>\n    <tr>\n      <th>0</th>\n      <td>77d604ce112a107ffe3e60566778d090a0b756bcfb0a3e...</td>\n      <td>20e8f1c4051a6c55122bd00f25f92f91b5f125497b7939...</td>\n      <td>1549078957672</td>\n      <td>event_product</td>\n      <td>click</td>\n      <td>20e8f1c4051a6c55122bd00f25f92f91b5f125497b7939...</td>\n    </tr>\n    <tr>\n      <th>1</th>\n      <td>7fc129b5945b2959339da1c0675d9c9adcdbc1fc99a954...</td>\n      <td>8283e8b59c283c3b72462a6f73084683524f4b0149acb7...</td>\n      <td>1550003058242</td>\n      <td>event_product</td>\n      <td>click</td>\n      <td>8283e8b59c283c3b72462a6f73084683524f4b0149acb7...</td>\n    </tr>\n    <tr>\n      <th>2</th>\n      <td>3ef3f3170f85ae92b01378b2161f5e71f64caadbeefd90...</td>\n      <td>2901d00c55fc2e4e60ea0d0e7a48ee843491e31025afab...</td>\n      <td>1549641526668</td>\n      <td>event_product</td>\n      <td>click</td>\n      <td>2901d00c55fc2e4e60ea0d0e7a48ee843491e31025afab...</td>\n    </tr>\n    <tr>\n      <th>3</th>\n      <td>3ef3f3170f85ae92b01378b2161f5e71f64caadbeefd90...</td>\n      <td>f706d1c864e7153a637add15e2bbb25fb8a1e3eb04c510...</td>\n      <td>1549641526668</td>\n      <td>event_product</td>\n      <td>click</td>\n      <td>f706d1c864e7153a637add15e2bbb25fb8a1e3eb04c510...</td>\n    </tr>\n    <tr>\n      <th>4</th>\n      <td>3ef3f3170f85ae92b01378b2161f5e71f64caadbeefd90...</td>\n      <td>3983d0cd10e567317005f8f47d3592beb8aceeca2dcb28...</td>\n      <td>1549641612879</td>\n      <td>event_product</td>\n      <td>click</td>\n      <td>3983d0cd10e567317005f8f47d3592beb8aceeca2dcb28...</td>\n    </tr>\n    <tr>\n      <th>...</th>\n      <td>...</td>\n      <td>...</td>\n      <td>...</td>\n      <td>...</td>\n      <td>...</td>\n      <td>...</td>\n    </tr>\n    <tr>\n      <th>910</th>\n      <td>bcbbe88057c249e72e980b2b3de47ecb618d0e75e31446...</td>\n      <td>0fe582f7fa11db37912c7ce21f397626968e8c7668e057...</td>\n      <td>1548347016445</td>\n      <td>event_product</td>\n      <td>click</td>\n      <td>0fe582f7fa11db37912c7ce21f397626968e8c7668e057...</td>\n    </tr>\n    <tr>\n      <th>911</th>\n      <td>549eee772dee1c61b972da84975ebb1f8fbf6bb8893a05...</td>\n      <td>c2a8bfaed9821ac0c99519783061b0658bb9f7fcd14975...</td>\n      <td>1549822742354</td>\n      <td>event_product</td>\n      <td>click</td>\n      <td>c2a8bfaed9821ac0c99519783061b0658bb9f7fcd14975...</td>\n    </tr>\n    <tr>\n      <th>912</th>\n      <td>83f30f5c9dea4c25c72b3230d7b4f690ad50ffed3ac4e8...</td>\n      <td>c2a8bfaed9821ac0c99519783061b0658bb9f7fcd14975...</td>\n      <td>1549739788634</td>\n      <td>event_product</td>\n      <td>click</td>\n      <td>c2a8bfaed9821ac0c99519783061b0658bb9f7fcd14975...</td>\n    </tr>\n    <tr>\n      <th>913</th>\n      <td>83f30f5c9dea4c25c72b3230d7b4f690ad50ffed3ac4e8...</td>\n      <td>e9e392a2aada64b846f29093b523eb4b3bdb93bfca433c...</td>\n      <td>1549739788634</td>\n      <td>event_product</td>\n      <td>click</td>\n      <td>e9e392a2aada64b846f29093b523eb4b3bdb93bfca433c...</td>\n    </tr>\n    <tr>\n      <th>915</th>\n      <td>587428e0640e5a433e0d2e065f713cea5b633e1935437e...</td>\n      <td>705f5c4306427c95e5662cf7e913ba906f1074b1cc953e...</td>\n      <td>1548781759107</td>\n      <td>event_product</td>\n      <td>click</td>\n      <td>705f5c4306427c95e5662cf7e913ba906f1074b1cc953e...</td>\n    </tr>\n  </tbody>\n</table>\n<p>235 rows × 6 columns</p>\n</div>"
     },
     "execution_count": 11,
     "metadata": {},
     "output_type": "execute_result"
    }
   ],
   "source": [
    "search_clicks.drop_duplicates(inplace=True)\n",
    "search_clicks"
   ],
   "metadata": {
    "collapsed": false
   }
  },
  {
   "cell_type": "code",
   "execution_count": 12,
   "outputs": [
    {
     "data": {
      "text/plain": "                                       session_id_hash     event_type  \\\n0    20c458b802f6ea9374783bfc528b19421be977a6769785...  event_product   \n1    20c458b802f6ea9374783bfc528b19421be977a6769785...  event_product   \n3    20c458b802f6ea9374783bfc528b19421be977a6769785...  event_product   \n5    20c458b802f6ea9374783bfc528b19421be977a6769785...       pageview   \n7    20c458b802f6ea9374783bfc528b19421be977a6769785...  event_product   \n..                                                 ...            ...   \n910  bcbbe88057c249e72e980b2b3de47ecb618d0e75e31446...  event_product   \n911  549eee772dee1c61b972da84975ebb1f8fbf6bb8893a05...  event_product   \n912  83f30f5c9dea4c25c72b3230d7b4f690ad50ffed3ac4e8...  event_product   \n913  83f30f5c9dea4c25c72b3230d7b4f690ad50ffed3ac4e8...  event_product   \n915  587428e0640e5a433e0d2e065f713cea5b633e1935437e...  event_product   \n\n    product_action                                   product_sku_hash  \\\n0           detail  d5157f8bc52965390fa21ad5842a8502bc3eb8b0930f3f...   \n1           detail  61ef3869355b78e11011f39fc7ac8f8dfb209b3442a9d5...   \n3           detail  d5157f8bc52965390fa21ad5842a8502bc3eb8b0930f3f...   \n5              NaN                                                NaN   \n7           detail  d5157f8bc52965390fa21ad5842a8502bc3eb8b0930f3f...   \n..             ...                                                ...   \n910          click  0fe582f7fa11db37912c7ce21f397626968e8c7668e057...   \n911          click  c2a8bfaed9821ac0c99519783061b0658bb9f7fcd14975...   \n912          click  c2a8bfaed9821ac0c99519783061b0658bb9f7fcd14975...   \n913          click  e9e392a2aada64b846f29093b523eb4b3bdb93bfca433c...   \n915          click  705f5c4306427c95e5662cf7e913ba906f1074b1cc953e...   \n\n     server_timestamp_epoch_ms  \\\n0                1550885210881   \n1                1550885213307   \n3                1550885215484   \n5                1550885234192   \n7                1550885304014   \n..                         ...   \n910              1548347016445   \n911              1549822742354   \n912              1549739788634   \n913              1549739788634   \n915              1548781759107   \n\n                                            hashed_url  \n0    7e4527ac6a32deed4f4f06bb7c49b907b7ca371e59d57d...  \n1    4ed279f4f0deab6dfc80f4f7bf49d527fd894fa478a9ce...  \n3    7e4527ac6a32deed4f4f06bb7c49b907b7ca371e59d57d...  \n5    45ee51e47bb1c2e5fe1c0563d1ead53b602a7d0c68e85f...  \n7    7e4527ac6a32deed4f4f06bb7c49b907b7ca371e59d57d...  \n..                                                 ...  \n910  0fe582f7fa11db37912c7ce21f397626968e8c7668e057...  \n911  c2a8bfaed9821ac0c99519783061b0658bb9f7fcd14975...  \n912  c2a8bfaed9821ac0c99519783061b0658bb9f7fcd14975...  \n913  e9e392a2aada64b846f29093b523eb4b3bdb93bfca433c...  \n915  705f5c4306427c95e5662cf7e913ba906f1074b1cc953e...  \n\n[980 rows x 6 columns]",
      "text/html": "<div>\n<style scoped>\n    .dataframe tbody tr th:only-of-type {\n        vertical-align: middle;\n    }\n\n    .dataframe tbody tr th {\n        vertical-align: top;\n    }\n\n    .dataframe thead th {\n        text-align: right;\n    }\n</style>\n<table border=\"1\" class=\"dataframe\">\n  <thead>\n    <tr style=\"text-align: right;\">\n      <th></th>\n      <th>session_id_hash</th>\n      <th>event_type</th>\n      <th>product_action</th>\n      <th>product_sku_hash</th>\n      <th>server_timestamp_epoch_ms</th>\n      <th>hashed_url</th>\n    </tr>\n  </thead>\n  <tbody>\n    <tr>\n      <th>0</th>\n      <td>20c458b802f6ea9374783bfc528b19421be977a6769785...</td>\n      <td>event_product</td>\n      <td>detail</td>\n      <td>d5157f8bc52965390fa21ad5842a8502bc3eb8b0930f3f...</td>\n      <td>1550885210881</td>\n      <td>7e4527ac6a32deed4f4f06bb7c49b907b7ca371e59d57d...</td>\n    </tr>\n    <tr>\n      <th>1</th>\n      <td>20c458b802f6ea9374783bfc528b19421be977a6769785...</td>\n      <td>event_product</td>\n      <td>detail</td>\n      <td>61ef3869355b78e11011f39fc7ac8f8dfb209b3442a9d5...</td>\n      <td>1550885213307</td>\n      <td>4ed279f4f0deab6dfc80f4f7bf49d527fd894fa478a9ce...</td>\n    </tr>\n    <tr>\n      <th>3</th>\n      <td>20c458b802f6ea9374783bfc528b19421be977a6769785...</td>\n      <td>event_product</td>\n      <td>detail</td>\n      <td>d5157f8bc52965390fa21ad5842a8502bc3eb8b0930f3f...</td>\n      <td>1550885215484</td>\n      <td>7e4527ac6a32deed4f4f06bb7c49b907b7ca371e59d57d...</td>\n    </tr>\n    <tr>\n      <th>5</th>\n      <td>20c458b802f6ea9374783bfc528b19421be977a6769785...</td>\n      <td>pageview</td>\n      <td>NaN</td>\n      <td>NaN</td>\n      <td>1550885234192</td>\n      <td>45ee51e47bb1c2e5fe1c0563d1ead53b602a7d0c68e85f...</td>\n    </tr>\n    <tr>\n      <th>7</th>\n      <td>20c458b802f6ea9374783bfc528b19421be977a6769785...</td>\n      <td>event_product</td>\n      <td>detail</td>\n      <td>d5157f8bc52965390fa21ad5842a8502bc3eb8b0930f3f...</td>\n      <td>1550885304014</td>\n      <td>7e4527ac6a32deed4f4f06bb7c49b907b7ca371e59d57d...</td>\n    </tr>\n    <tr>\n      <th>...</th>\n      <td>...</td>\n      <td>...</td>\n      <td>...</td>\n      <td>...</td>\n      <td>...</td>\n      <td>...</td>\n    </tr>\n    <tr>\n      <th>910</th>\n      <td>bcbbe88057c249e72e980b2b3de47ecb618d0e75e31446...</td>\n      <td>event_product</td>\n      <td>click</td>\n      <td>0fe582f7fa11db37912c7ce21f397626968e8c7668e057...</td>\n      <td>1548347016445</td>\n      <td>0fe582f7fa11db37912c7ce21f397626968e8c7668e057...</td>\n    </tr>\n    <tr>\n      <th>911</th>\n      <td>549eee772dee1c61b972da84975ebb1f8fbf6bb8893a05...</td>\n      <td>event_product</td>\n      <td>click</td>\n      <td>c2a8bfaed9821ac0c99519783061b0658bb9f7fcd14975...</td>\n      <td>1549822742354</td>\n      <td>c2a8bfaed9821ac0c99519783061b0658bb9f7fcd14975...</td>\n    </tr>\n    <tr>\n      <th>912</th>\n      <td>83f30f5c9dea4c25c72b3230d7b4f690ad50ffed3ac4e8...</td>\n      <td>event_product</td>\n      <td>click</td>\n      <td>c2a8bfaed9821ac0c99519783061b0658bb9f7fcd14975...</td>\n      <td>1549739788634</td>\n      <td>c2a8bfaed9821ac0c99519783061b0658bb9f7fcd14975...</td>\n    </tr>\n    <tr>\n      <th>913</th>\n      <td>83f30f5c9dea4c25c72b3230d7b4f690ad50ffed3ac4e8...</td>\n      <td>event_product</td>\n      <td>click</td>\n      <td>e9e392a2aada64b846f29093b523eb4b3bdb93bfca433c...</td>\n      <td>1549739788634</td>\n      <td>e9e392a2aada64b846f29093b523eb4b3bdb93bfca433c...</td>\n    </tr>\n    <tr>\n      <th>915</th>\n      <td>587428e0640e5a433e0d2e065f713cea5b633e1935437e...</td>\n      <td>event_product</td>\n      <td>click</td>\n      <td>705f5c4306427c95e5662cf7e913ba906f1074b1cc953e...</td>\n      <td>1548781759107</td>\n      <td>705f5c4306427c95e5662cf7e913ba906f1074b1cc953e...</td>\n    </tr>\n  </tbody>\n</table>\n<p>980 rows × 6 columns</p>\n</div>"
     },
     "execution_count": 12,
     "metadata": {},
     "output_type": "execute_result"
    }
   ],
   "source": [
    "browsing_train = pd.concat([browsing_train, search_clicks])\n",
    "browsing_train"
   ],
   "metadata": {
    "collapsed": false
   }
  },
  {
   "cell_type": "code",
   "execution_count": 13,
   "outputs": [
    {
     "data": {
      "text/plain": "event_product    493\npageview         487\nName: event_type, dtype: int64"
     },
     "execution_count": 13,
     "metadata": {},
     "output_type": "execute_result"
    }
   ],
   "source": [
    "browsing_train.event_type.value_counts()"
   ],
   "metadata": {
    "collapsed": false
   }
  },
  {
   "cell_type": "markdown",
   "source": [
    "Include pageviews"
   ],
   "metadata": {
    "collapsed": false
   }
  },
  {
   "cell_type": "code",
   "execution_count": 14,
   "outputs": [
    {
     "data": {
      "text/plain": "                                       session_id_hash     event_type  \\\n0    20c458b802f6ea9374783bfc528b19421be977a6769785...  event_product   \n1    20c458b802f6ea9374783bfc528b19421be977a6769785...  event_product   \n3    20c458b802f6ea9374783bfc528b19421be977a6769785...  event_product   \n5    20c458b802f6ea9374783bfc528b19421be977a6769785...       pageview   \n7    20c458b802f6ea9374783bfc528b19421be977a6769785...  event_product   \n..                                                 ...            ...   \n910  bcbbe88057c249e72e980b2b3de47ecb618d0e75e31446...  event_product   \n911  549eee772dee1c61b972da84975ebb1f8fbf6bb8893a05...  event_product   \n912  83f30f5c9dea4c25c72b3230d7b4f690ad50ffed3ac4e8...  event_product   \n913  83f30f5c9dea4c25c72b3230d7b4f690ad50ffed3ac4e8...  event_product   \n915  587428e0640e5a433e0d2e065f713cea5b633e1935437e...  event_product   \n\n    product_action                                   product_sku_hash  \\\n0           detail  d5157f8bc52965390fa21ad5842a8502bc3eb8b0930f3f...   \n1           detail  61ef3869355b78e11011f39fc7ac8f8dfb209b3442a9d5...   \n3           detail  d5157f8bc52965390fa21ad5842a8502bc3eb8b0930f3f...   \n5              NaN                                                NaN   \n7           detail  d5157f8bc52965390fa21ad5842a8502bc3eb8b0930f3f...   \n..             ...                                                ...   \n910          click  0fe582f7fa11db37912c7ce21f397626968e8c7668e057...   \n911          click  c2a8bfaed9821ac0c99519783061b0658bb9f7fcd14975...   \n912          click  c2a8bfaed9821ac0c99519783061b0658bb9f7fcd14975...   \n913          click  e9e392a2aada64b846f29093b523eb4b3bdb93bfca433c...   \n915          click  705f5c4306427c95e5662cf7e913ba906f1074b1cc953e...   \n\n     server_timestamp_epoch_ms  \\\n0                1550885210881   \n1                1550885213307   \n3                1550885215484   \n5                1550885234192   \n7                1550885304014   \n..                         ...   \n910              1548347016445   \n911              1549822742354   \n912              1549739788634   \n913              1549739788634   \n915              1548781759107   \n\n                                            hashed_url  \n0    7e4527ac6a32deed4f4f06bb7c49b907b7ca371e59d57d...  \n1    4ed279f4f0deab6dfc80f4f7bf49d527fd894fa478a9ce...  \n3    7e4527ac6a32deed4f4f06bb7c49b907b7ca371e59d57d...  \n5    45ee51e47bb1c2e5fe1c0563d1ead53b602a7d0c68e85f...  \n7    7e4527ac6a32deed4f4f06bb7c49b907b7ca371e59d57d...  \n..                                                 ...  \n910  0fe582f7fa11db37912c7ce21f397626968e8c7668e057...  \n911  c2a8bfaed9821ac0c99519783061b0658bb9f7fcd14975...  \n912  c2a8bfaed9821ac0c99519783061b0658bb9f7fcd14975...  \n913  e9e392a2aada64b846f29093b523eb4b3bdb93bfca433c...  \n915  705f5c4306427c95e5662cf7e913ba906f1074b1cc953e...  \n\n[980 rows x 6 columns]",
      "text/html": "<div>\n<style scoped>\n    .dataframe tbody tr th:only-of-type {\n        vertical-align: middle;\n    }\n\n    .dataframe tbody tr th {\n        vertical-align: top;\n    }\n\n    .dataframe thead th {\n        text-align: right;\n    }\n</style>\n<table border=\"1\" class=\"dataframe\">\n  <thead>\n    <tr style=\"text-align: right;\">\n      <th></th>\n      <th>session_id_hash</th>\n      <th>event_type</th>\n      <th>product_action</th>\n      <th>product_sku_hash</th>\n      <th>server_timestamp_epoch_ms</th>\n      <th>hashed_url</th>\n    </tr>\n  </thead>\n  <tbody>\n    <tr>\n      <th>0</th>\n      <td>20c458b802f6ea9374783bfc528b19421be977a6769785...</td>\n      <td>event_product</td>\n      <td>detail</td>\n      <td>d5157f8bc52965390fa21ad5842a8502bc3eb8b0930f3f...</td>\n      <td>1550885210881</td>\n      <td>7e4527ac6a32deed4f4f06bb7c49b907b7ca371e59d57d...</td>\n    </tr>\n    <tr>\n      <th>1</th>\n      <td>20c458b802f6ea9374783bfc528b19421be977a6769785...</td>\n      <td>event_product</td>\n      <td>detail</td>\n      <td>61ef3869355b78e11011f39fc7ac8f8dfb209b3442a9d5...</td>\n      <td>1550885213307</td>\n      <td>4ed279f4f0deab6dfc80f4f7bf49d527fd894fa478a9ce...</td>\n    </tr>\n    <tr>\n      <th>3</th>\n      <td>20c458b802f6ea9374783bfc528b19421be977a6769785...</td>\n      <td>event_product</td>\n      <td>detail</td>\n      <td>d5157f8bc52965390fa21ad5842a8502bc3eb8b0930f3f...</td>\n      <td>1550885215484</td>\n      <td>7e4527ac6a32deed4f4f06bb7c49b907b7ca371e59d57d...</td>\n    </tr>\n    <tr>\n      <th>5</th>\n      <td>20c458b802f6ea9374783bfc528b19421be977a6769785...</td>\n      <td>pageview</td>\n      <td>NaN</td>\n      <td>NaN</td>\n      <td>1550885234192</td>\n      <td>45ee51e47bb1c2e5fe1c0563d1ead53b602a7d0c68e85f...</td>\n    </tr>\n    <tr>\n      <th>7</th>\n      <td>20c458b802f6ea9374783bfc528b19421be977a6769785...</td>\n      <td>event_product</td>\n      <td>detail</td>\n      <td>d5157f8bc52965390fa21ad5842a8502bc3eb8b0930f3f...</td>\n      <td>1550885304014</td>\n      <td>7e4527ac6a32deed4f4f06bb7c49b907b7ca371e59d57d...</td>\n    </tr>\n    <tr>\n      <th>...</th>\n      <td>...</td>\n      <td>...</td>\n      <td>...</td>\n      <td>...</td>\n      <td>...</td>\n      <td>...</td>\n    </tr>\n    <tr>\n      <th>910</th>\n      <td>bcbbe88057c249e72e980b2b3de47ecb618d0e75e31446...</td>\n      <td>event_product</td>\n      <td>click</td>\n      <td>0fe582f7fa11db37912c7ce21f397626968e8c7668e057...</td>\n      <td>1548347016445</td>\n      <td>0fe582f7fa11db37912c7ce21f397626968e8c7668e057...</td>\n    </tr>\n    <tr>\n      <th>911</th>\n      <td>549eee772dee1c61b972da84975ebb1f8fbf6bb8893a05...</td>\n      <td>event_product</td>\n      <td>click</td>\n      <td>c2a8bfaed9821ac0c99519783061b0658bb9f7fcd14975...</td>\n      <td>1549822742354</td>\n      <td>c2a8bfaed9821ac0c99519783061b0658bb9f7fcd14975...</td>\n    </tr>\n    <tr>\n      <th>912</th>\n      <td>83f30f5c9dea4c25c72b3230d7b4f690ad50ffed3ac4e8...</td>\n      <td>event_product</td>\n      <td>click</td>\n      <td>c2a8bfaed9821ac0c99519783061b0658bb9f7fcd14975...</td>\n      <td>1549739788634</td>\n      <td>c2a8bfaed9821ac0c99519783061b0658bb9f7fcd14975...</td>\n    </tr>\n    <tr>\n      <th>913</th>\n      <td>83f30f5c9dea4c25c72b3230d7b4f690ad50ffed3ac4e8...</td>\n      <td>event_product</td>\n      <td>click</td>\n      <td>e9e392a2aada64b846f29093b523eb4b3bdb93bfca433c...</td>\n      <td>1549739788634</td>\n      <td>e9e392a2aada64b846f29093b523eb4b3bdb93bfca433c...</td>\n    </tr>\n    <tr>\n      <th>915</th>\n      <td>587428e0640e5a433e0d2e065f713cea5b633e1935437e...</td>\n      <td>event_product</td>\n      <td>click</td>\n      <td>705f5c4306427c95e5662cf7e913ba906f1074b1cc953e...</td>\n      <td>1548781759107</td>\n      <td>705f5c4306427c95e5662cf7e913ba906f1074b1cc953e...</td>\n    </tr>\n  </tbody>\n</table>\n<p>980 rows × 6 columns</p>\n</div>"
     },
     "execution_count": 14,
     "metadata": {},
     "output_type": "execute_result"
    }
   ],
   "source": [
    "browsing_train_with_pageviews = browsing_train.copy()\n",
    "browsing_train_with_pageviews"
   ],
   "metadata": {
    "collapsed": false
   }
  },
  {
   "cell_type": "markdown",
   "source": [
    "Fill pageview sku hash with hashed url"
   ],
   "metadata": {
    "collapsed": false
   }
  },
  {
   "cell_type": "code",
   "execution_count": 15,
   "outputs": [
    {
     "data": {
      "text/plain": "                                       session_id_hash     event_type  \\\n0    20c458b802f6ea9374783bfc528b19421be977a6769785...  event_product   \n1    20c458b802f6ea9374783bfc528b19421be977a6769785...  event_product   \n3    20c458b802f6ea9374783bfc528b19421be977a6769785...  event_product   \n5    20c458b802f6ea9374783bfc528b19421be977a6769785...       pageview   \n7    20c458b802f6ea9374783bfc528b19421be977a6769785...  event_product   \n..                                                 ...            ...   \n910  bcbbe88057c249e72e980b2b3de47ecb618d0e75e31446...  event_product   \n911  549eee772dee1c61b972da84975ebb1f8fbf6bb8893a05...  event_product   \n912  83f30f5c9dea4c25c72b3230d7b4f690ad50ffed3ac4e8...  event_product   \n913  83f30f5c9dea4c25c72b3230d7b4f690ad50ffed3ac4e8...  event_product   \n915  587428e0640e5a433e0d2e065f713cea5b633e1935437e...  event_product   \n\n    product_action                                   product_sku_hash  \\\n0           detail  d5157f8bc52965390fa21ad5842a8502bc3eb8b0930f3f...   \n1           detail  61ef3869355b78e11011f39fc7ac8f8dfb209b3442a9d5...   \n3           detail  d5157f8bc52965390fa21ad5842a8502bc3eb8b0930f3f...   \n5              NaN  45ee51e47bb1c2e5fe1c0563d1ead53b602a7d0c68e85f...   \n7           detail  d5157f8bc52965390fa21ad5842a8502bc3eb8b0930f3f...   \n..             ...                                                ...   \n910          click  0fe582f7fa11db37912c7ce21f397626968e8c7668e057...   \n911          click  c2a8bfaed9821ac0c99519783061b0658bb9f7fcd14975...   \n912          click  c2a8bfaed9821ac0c99519783061b0658bb9f7fcd14975...   \n913          click  e9e392a2aada64b846f29093b523eb4b3bdb93bfca433c...   \n915          click  705f5c4306427c95e5662cf7e913ba906f1074b1cc953e...   \n\n     server_timestamp_epoch_ms  \\\n0                1550885210881   \n1                1550885213307   \n3                1550885215484   \n5                1550885234192   \n7                1550885304014   \n..                         ...   \n910              1548347016445   \n911              1549822742354   \n912              1549739788634   \n913              1549739788634   \n915              1548781759107   \n\n                                            hashed_url  \n0    7e4527ac6a32deed4f4f06bb7c49b907b7ca371e59d57d...  \n1    4ed279f4f0deab6dfc80f4f7bf49d527fd894fa478a9ce...  \n3    7e4527ac6a32deed4f4f06bb7c49b907b7ca371e59d57d...  \n5    45ee51e47bb1c2e5fe1c0563d1ead53b602a7d0c68e85f...  \n7    7e4527ac6a32deed4f4f06bb7c49b907b7ca371e59d57d...  \n..                                                 ...  \n910  0fe582f7fa11db37912c7ce21f397626968e8c7668e057...  \n911  c2a8bfaed9821ac0c99519783061b0658bb9f7fcd14975...  \n912  c2a8bfaed9821ac0c99519783061b0658bb9f7fcd14975...  \n913  e9e392a2aada64b846f29093b523eb4b3bdb93bfca433c...  \n915  705f5c4306427c95e5662cf7e913ba906f1074b1cc953e...  \n\n[980 rows x 6 columns]",
      "text/html": "<div>\n<style scoped>\n    .dataframe tbody tr th:only-of-type {\n        vertical-align: middle;\n    }\n\n    .dataframe tbody tr th {\n        vertical-align: top;\n    }\n\n    .dataframe thead th {\n        text-align: right;\n    }\n</style>\n<table border=\"1\" class=\"dataframe\">\n  <thead>\n    <tr style=\"text-align: right;\">\n      <th></th>\n      <th>session_id_hash</th>\n      <th>event_type</th>\n      <th>product_action</th>\n      <th>product_sku_hash</th>\n      <th>server_timestamp_epoch_ms</th>\n      <th>hashed_url</th>\n    </tr>\n  </thead>\n  <tbody>\n    <tr>\n      <th>0</th>\n      <td>20c458b802f6ea9374783bfc528b19421be977a6769785...</td>\n      <td>event_product</td>\n      <td>detail</td>\n      <td>d5157f8bc52965390fa21ad5842a8502bc3eb8b0930f3f...</td>\n      <td>1550885210881</td>\n      <td>7e4527ac6a32deed4f4f06bb7c49b907b7ca371e59d57d...</td>\n    </tr>\n    <tr>\n      <th>1</th>\n      <td>20c458b802f6ea9374783bfc528b19421be977a6769785...</td>\n      <td>event_product</td>\n      <td>detail</td>\n      <td>61ef3869355b78e11011f39fc7ac8f8dfb209b3442a9d5...</td>\n      <td>1550885213307</td>\n      <td>4ed279f4f0deab6dfc80f4f7bf49d527fd894fa478a9ce...</td>\n    </tr>\n    <tr>\n      <th>3</th>\n      <td>20c458b802f6ea9374783bfc528b19421be977a6769785...</td>\n      <td>event_product</td>\n      <td>detail</td>\n      <td>d5157f8bc52965390fa21ad5842a8502bc3eb8b0930f3f...</td>\n      <td>1550885215484</td>\n      <td>7e4527ac6a32deed4f4f06bb7c49b907b7ca371e59d57d...</td>\n    </tr>\n    <tr>\n      <th>5</th>\n      <td>20c458b802f6ea9374783bfc528b19421be977a6769785...</td>\n      <td>pageview</td>\n      <td>NaN</td>\n      <td>45ee51e47bb1c2e5fe1c0563d1ead53b602a7d0c68e85f...</td>\n      <td>1550885234192</td>\n      <td>45ee51e47bb1c2e5fe1c0563d1ead53b602a7d0c68e85f...</td>\n    </tr>\n    <tr>\n      <th>7</th>\n      <td>20c458b802f6ea9374783bfc528b19421be977a6769785...</td>\n      <td>event_product</td>\n      <td>detail</td>\n      <td>d5157f8bc52965390fa21ad5842a8502bc3eb8b0930f3f...</td>\n      <td>1550885304014</td>\n      <td>7e4527ac6a32deed4f4f06bb7c49b907b7ca371e59d57d...</td>\n    </tr>\n    <tr>\n      <th>...</th>\n      <td>...</td>\n      <td>...</td>\n      <td>...</td>\n      <td>...</td>\n      <td>...</td>\n      <td>...</td>\n    </tr>\n    <tr>\n      <th>910</th>\n      <td>bcbbe88057c249e72e980b2b3de47ecb618d0e75e31446...</td>\n      <td>event_product</td>\n      <td>click</td>\n      <td>0fe582f7fa11db37912c7ce21f397626968e8c7668e057...</td>\n      <td>1548347016445</td>\n      <td>0fe582f7fa11db37912c7ce21f397626968e8c7668e057...</td>\n    </tr>\n    <tr>\n      <th>911</th>\n      <td>549eee772dee1c61b972da84975ebb1f8fbf6bb8893a05...</td>\n      <td>event_product</td>\n      <td>click</td>\n      <td>c2a8bfaed9821ac0c99519783061b0658bb9f7fcd14975...</td>\n      <td>1549822742354</td>\n      <td>c2a8bfaed9821ac0c99519783061b0658bb9f7fcd14975...</td>\n    </tr>\n    <tr>\n      <th>912</th>\n      <td>83f30f5c9dea4c25c72b3230d7b4f690ad50ffed3ac4e8...</td>\n      <td>event_product</td>\n      <td>click</td>\n      <td>c2a8bfaed9821ac0c99519783061b0658bb9f7fcd14975...</td>\n      <td>1549739788634</td>\n      <td>c2a8bfaed9821ac0c99519783061b0658bb9f7fcd14975...</td>\n    </tr>\n    <tr>\n      <th>913</th>\n      <td>83f30f5c9dea4c25c72b3230d7b4f690ad50ffed3ac4e8...</td>\n      <td>event_product</td>\n      <td>click</td>\n      <td>e9e392a2aada64b846f29093b523eb4b3bdb93bfca433c...</td>\n      <td>1549739788634</td>\n      <td>e9e392a2aada64b846f29093b523eb4b3bdb93bfca433c...</td>\n    </tr>\n    <tr>\n      <th>915</th>\n      <td>587428e0640e5a433e0d2e065f713cea5b633e1935437e...</td>\n      <td>event_product</td>\n      <td>click</td>\n      <td>705f5c4306427c95e5662cf7e913ba906f1074b1cc953e...</td>\n      <td>1548781759107</td>\n      <td>705f5c4306427c95e5662cf7e913ba906f1074b1cc953e...</td>\n    </tr>\n  </tbody>\n</table>\n<p>980 rows × 6 columns</p>\n</div>"
     },
     "execution_count": 15,
     "metadata": {},
     "output_type": "execute_result"
    }
   ],
   "source": [
    "browsing_train_with_pageviews['product_sku_hash'] = browsing_train_with_pageviews['product_sku_hash'].fillna(browsing_train_with_pageviews['hashed_url'])\n",
    "browsing_train_with_pageviews"
   ],
   "metadata": {
    "collapsed": false
   }
  },
  {
   "cell_type": "markdown",
   "source": [
    "Exclude pageviews"
   ],
   "metadata": {
    "collapsed": false
   }
  },
  {
   "cell_type": "code",
   "execution_count": 16,
   "outputs": [
    {
     "data": {
      "text/plain": "                                       session_id_hash     event_type  \\\n0    20c458b802f6ea9374783bfc528b19421be977a6769785...  event_product   \n1    20c458b802f6ea9374783bfc528b19421be977a6769785...  event_product   \n3    20c458b802f6ea9374783bfc528b19421be977a6769785...  event_product   \n7    20c458b802f6ea9374783bfc528b19421be977a6769785...  event_product   \n16   20c458b802f6ea9374783bfc528b19421be977a6769785...  event_product   \n..                                                 ...            ...   \n910  bcbbe88057c249e72e980b2b3de47ecb618d0e75e31446...  event_product   \n911  549eee772dee1c61b972da84975ebb1f8fbf6bb8893a05...  event_product   \n912  83f30f5c9dea4c25c72b3230d7b4f690ad50ffed3ac4e8...  event_product   \n913  83f30f5c9dea4c25c72b3230d7b4f690ad50ffed3ac4e8...  event_product   \n915  587428e0640e5a433e0d2e065f713cea5b633e1935437e...  event_product   \n\n    product_action                                   product_sku_hash  \\\n0           detail  d5157f8bc52965390fa21ad5842a8502bc3eb8b0930f3f...   \n1           detail  61ef3869355b78e11011f39fc7ac8f8dfb209b3442a9d5...   \n3           detail  d5157f8bc52965390fa21ad5842a8502bc3eb8b0930f3f...   \n7           detail  d5157f8bc52965390fa21ad5842a8502bc3eb8b0930f3f...   \n16          detail  5fa44b39fe0ecc17d713a020ebb802bbe685c6f70d059c...   \n..             ...                                                ...   \n910          click  0fe582f7fa11db37912c7ce21f397626968e8c7668e057...   \n911          click  c2a8bfaed9821ac0c99519783061b0658bb9f7fcd14975...   \n912          click  c2a8bfaed9821ac0c99519783061b0658bb9f7fcd14975...   \n913          click  e9e392a2aada64b846f29093b523eb4b3bdb93bfca433c...   \n915          click  705f5c4306427c95e5662cf7e913ba906f1074b1cc953e...   \n\n     server_timestamp_epoch_ms  \\\n0                1550885210881   \n1                1550885213307   \n3                1550885215484   \n7                1550885304014   \n16               1550885885435   \n..                         ...   \n910              1548347016445   \n911              1549822742354   \n912              1549739788634   \n913              1549739788634   \n915              1548781759107   \n\n                                            hashed_url  \n0    7e4527ac6a32deed4f4f06bb7c49b907b7ca371e59d57d...  \n1    4ed279f4f0deab6dfc80f4f7bf49d527fd894fa478a9ce...  \n3    7e4527ac6a32deed4f4f06bb7c49b907b7ca371e59d57d...  \n7    7e4527ac6a32deed4f4f06bb7c49b907b7ca371e59d57d...  \n16   aeb23a3bb9cb43a63d8a6a6df21dd2dc6b4862036a7558...  \n..                                                 ...  \n910  0fe582f7fa11db37912c7ce21f397626968e8c7668e057...  \n911  c2a8bfaed9821ac0c99519783061b0658bb9f7fcd14975...  \n912  c2a8bfaed9821ac0c99519783061b0658bb9f7fcd14975...  \n913  e9e392a2aada64b846f29093b523eb4b3bdb93bfca433c...  \n915  705f5c4306427c95e5662cf7e913ba906f1074b1cc953e...  \n\n[493 rows x 6 columns]",
      "text/html": "<div>\n<style scoped>\n    .dataframe tbody tr th:only-of-type {\n        vertical-align: middle;\n    }\n\n    .dataframe tbody tr th {\n        vertical-align: top;\n    }\n\n    .dataframe thead th {\n        text-align: right;\n    }\n</style>\n<table border=\"1\" class=\"dataframe\">\n  <thead>\n    <tr style=\"text-align: right;\">\n      <th></th>\n      <th>session_id_hash</th>\n      <th>event_type</th>\n      <th>product_action</th>\n      <th>product_sku_hash</th>\n      <th>server_timestamp_epoch_ms</th>\n      <th>hashed_url</th>\n    </tr>\n  </thead>\n  <tbody>\n    <tr>\n      <th>0</th>\n      <td>20c458b802f6ea9374783bfc528b19421be977a6769785...</td>\n      <td>event_product</td>\n      <td>detail</td>\n      <td>d5157f8bc52965390fa21ad5842a8502bc3eb8b0930f3f...</td>\n      <td>1550885210881</td>\n      <td>7e4527ac6a32deed4f4f06bb7c49b907b7ca371e59d57d...</td>\n    </tr>\n    <tr>\n      <th>1</th>\n      <td>20c458b802f6ea9374783bfc528b19421be977a6769785...</td>\n      <td>event_product</td>\n      <td>detail</td>\n      <td>61ef3869355b78e11011f39fc7ac8f8dfb209b3442a9d5...</td>\n      <td>1550885213307</td>\n      <td>4ed279f4f0deab6dfc80f4f7bf49d527fd894fa478a9ce...</td>\n    </tr>\n    <tr>\n      <th>3</th>\n      <td>20c458b802f6ea9374783bfc528b19421be977a6769785...</td>\n      <td>event_product</td>\n      <td>detail</td>\n      <td>d5157f8bc52965390fa21ad5842a8502bc3eb8b0930f3f...</td>\n      <td>1550885215484</td>\n      <td>7e4527ac6a32deed4f4f06bb7c49b907b7ca371e59d57d...</td>\n    </tr>\n    <tr>\n      <th>7</th>\n      <td>20c458b802f6ea9374783bfc528b19421be977a6769785...</td>\n      <td>event_product</td>\n      <td>detail</td>\n      <td>d5157f8bc52965390fa21ad5842a8502bc3eb8b0930f3f...</td>\n      <td>1550885304014</td>\n      <td>7e4527ac6a32deed4f4f06bb7c49b907b7ca371e59d57d...</td>\n    </tr>\n    <tr>\n      <th>16</th>\n      <td>20c458b802f6ea9374783bfc528b19421be977a6769785...</td>\n      <td>event_product</td>\n      <td>detail</td>\n      <td>5fa44b39fe0ecc17d713a020ebb802bbe685c6f70d059c...</td>\n      <td>1550885885435</td>\n      <td>aeb23a3bb9cb43a63d8a6a6df21dd2dc6b4862036a7558...</td>\n    </tr>\n    <tr>\n      <th>...</th>\n      <td>...</td>\n      <td>...</td>\n      <td>...</td>\n      <td>...</td>\n      <td>...</td>\n      <td>...</td>\n    </tr>\n    <tr>\n      <th>910</th>\n      <td>bcbbe88057c249e72e980b2b3de47ecb618d0e75e31446...</td>\n      <td>event_product</td>\n      <td>click</td>\n      <td>0fe582f7fa11db37912c7ce21f397626968e8c7668e057...</td>\n      <td>1548347016445</td>\n      <td>0fe582f7fa11db37912c7ce21f397626968e8c7668e057...</td>\n    </tr>\n    <tr>\n      <th>911</th>\n      <td>549eee772dee1c61b972da84975ebb1f8fbf6bb8893a05...</td>\n      <td>event_product</td>\n      <td>click</td>\n      <td>c2a8bfaed9821ac0c99519783061b0658bb9f7fcd14975...</td>\n      <td>1549822742354</td>\n      <td>c2a8bfaed9821ac0c99519783061b0658bb9f7fcd14975...</td>\n    </tr>\n    <tr>\n      <th>912</th>\n      <td>83f30f5c9dea4c25c72b3230d7b4f690ad50ffed3ac4e8...</td>\n      <td>event_product</td>\n      <td>click</td>\n      <td>c2a8bfaed9821ac0c99519783061b0658bb9f7fcd14975...</td>\n      <td>1549739788634</td>\n      <td>c2a8bfaed9821ac0c99519783061b0658bb9f7fcd14975...</td>\n    </tr>\n    <tr>\n      <th>913</th>\n      <td>83f30f5c9dea4c25c72b3230d7b4f690ad50ffed3ac4e8...</td>\n      <td>event_product</td>\n      <td>click</td>\n      <td>e9e392a2aada64b846f29093b523eb4b3bdb93bfca433c...</td>\n      <td>1549739788634</td>\n      <td>e9e392a2aada64b846f29093b523eb4b3bdb93bfca433c...</td>\n    </tr>\n    <tr>\n      <th>915</th>\n      <td>587428e0640e5a433e0d2e065f713cea5b633e1935437e...</td>\n      <td>event_product</td>\n      <td>click</td>\n      <td>705f5c4306427c95e5662cf7e913ba906f1074b1cc953e...</td>\n      <td>1548781759107</td>\n      <td>705f5c4306427c95e5662cf7e913ba906f1074b1cc953e...</td>\n    </tr>\n  </tbody>\n</table>\n<p>493 rows × 6 columns</p>\n</div>"
     },
     "execution_count": 16,
     "metadata": {},
     "output_type": "execute_result"
    }
   ],
   "source": [
    "browsing_train_without_pageviews = browsing_train[browsing_train['product_sku_hash'].notnull()]\n",
    "browsing_train_without_pageviews"
   ],
   "metadata": {
    "collapsed": false
   }
  },
  {
   "cell_type": "markdown",
   "source": [
    "Merge Tables"
   ],
   "metadata": {
    "collapsed": false
   }
  },
  {
   "cell_type": "code",
   "execution_count": 17,
   "outputs": [
    {
     "data": {
      "text/plain": "                                       session_id_hash     event_type  \\\n904  002697a7dcac28c8729c5417975c381aa2cddbf821a6c7...  event_product   \n656  01d7d940ce504a0dd72b1d58db5151cfdf8db4dec8cc78...       pageview   \n513  0281ec4ac20cf43d403a4446087f6905bf663dcc96b8b6...       pageview   \n514  0281ec4ac20cf43d403a4446087f6905bf663dcc96b8b6...       pageview   \n515  0281ec4ac20cf43d403a4446087f6905bf663dcc96b8b6...       pageview   \n..                                                 ...            ...   \n781  ff4525283a309b01d20a748547ea3cc4770bb12644406f...  event_product   \n782  ff4525283a309b01d20a748547ea3cc4770bb12644406f...  event_product   \n783  ff4525283a309b01d20a748547ea3cc4770bb12644406f...  event_product   \n784  ff4525283a309b01d20a748547ea3cc4770bb12644406f...  event_product   \n785  ff4525283a309b01d20a748547ea3cc4770bb12644406f...  event_product   \n\n    product_action                                   product_sku_hash  \\\n904          click  caae53ae8df0cba1272315428f37a93d1b7d5a1f126f4b...   \n656            NaN  0a6dea25a1de903ace06b38fe12734b2c473a90f49aee2...   \n513            NaN  07c3cfa70a8f371121939ea5f7071bcecddd5818b438c8...   \n514            NaN  aa3cdb064827cf5ee3a0b1ac17569400124de674c1bf5d...   \n515            NaN  ab91fdc8ec638c5f585a0ef476e2c370db179dc74f8e08...   \n..             ...                                                ...   \n781          click  f8c02189903e94c3aaf55a8b1070b39b00be438feb116f...   \n782          click  4ccc7bad22f0cc7f3dbe51e9f09a2a6c2788b3f82b38d4...   \n783          click  2becbefc2274ef246db69447a5a6078a052bf2894417f9...   \n784          click  5589602aafd42abc5954b84e0d6605e5ad23173c85b7b4...   \n785          click  22d81f0e9b602f3c7e5c8efb3b2fc8dbff9e3e54ab65fe...   \n\n     server_timestamp_epoch_ms  \\\n904              1547920352021   \n656              1550184011684   \n513              1551721455226   \n514              1551721497043   \n515              1551721515407   \n..                         ...   \n781              1548809917787   \n782              1548809917787   \n783              1548809917787   \n784              1548810431270   \n785              1548810431270   \n\n                                            hashed_url category_hash  \\\n904  caae53ae8df0cba1272315428f37a93d1b7d5a1f126f4b...           NaN   \n656  0a6dea25a1de903ace06b38fe12734b2c473a90f49aee2...           NaN   \n513  07c3cfa70a8f371121939ea5f7071bcecddd5818b438c8...           NaN   \n514  aa3cdb064827cf5ee3a0b1ac17569400124de674c1bf5d...           NaN   \n515  ab91fdc8ec638c5f585a0ef476e2c370db179dc74f8e08...           NaN   \n..                                                 ...           ...   \n781  f8c02189903e94c3aaf55a8b1070b39b00be438feb116f...           NaN   \n782  4ccc7bad22f0cc7f3dbe51e9f09a2a6c2788b3f82b38d4...           NaN   \n783  2becbefc2274ef246db69447a5a6078a052bf2894417f9...           NaN   \n784  5589602aafd42abc5954b84e0d6605e5ad23173c85b7b4...           NaN   \n785  22d81f0e9b602f3c7e5c8efb3b2fc8dbff9e3e54ab65fe...           NaN   \n\n     price_bucket  \n904           NaN  \n656           NaN  \n513           NaN  \n514           NaN  \n515           NaN  \n..            ...  \n781           NaN  \n782           NaN  \n783           NaN  \n784           NaN  \n785           NaN  \n\n[980 rows x 8 columns]",
      "text/html": "<div>\n<style scoped>\n    .dataframe tbody tr th:only-of-type {\n        vertical-align: middle;\n    }\n\n    .dataframe tbody tr th {\n        vertical-align: top;\n    }\n\n    .dataframe thead th {\n        text-align: right;\n    }\n</style>\n<table border=\"1\" class=\"dataframe\">\n  <thead>\n    <tr style=\"text-align: right;\">\n      <th></th>\n      <th>session_id_hash</th>\n      <th>event_type</th>\n      <th>product_action</th>\n      <th>product_sku_hash</th>\n      <th>server_timestamp_epoch_ms</th>\n      <th>hashed_url</th>\n      <th>category_hash</th>\n      <th>price_bucket</th>\n    </tr>\n  </thead>\n  <tbody>\n    <tr>\n      <th>904</th>\n      <td>002697a7dcac28c8729c5417975c381aa2cddbf821a6c7...</td>\n      <td>event_product</td>\n      <td>click</td>\n      <td>caae53ae8df0cba1272315428f37a93d1b7d5a1f126f4b...</td>\n      <td>1547920352021</td>\n      <td>caae53ae8df0cba1272315428f37a93d1b7d5a1f126f4b...</td>\n      <td>NaN</td>\n      <td>NaN</td>\n    </tr>\n    <tr>\n      <th>656</th>\n      <td>01d7d940ce504a0dd72b1d58db5151cfdf8db4dec8cc78...</td>\n      <td>pageview</td>\n      <td>NaN</td>\n      <td>0a6dea25a1de903ace06b38fe12734b2c473a90f49aee2...</td>\n      <td>1550184011684</td>\n      <td>0a6dea25a1de903ace06b38fe12734b2c473a90f49aee2...</td>\n      <td>NaN</td>\n      <td>NaN</td>\n    </tr>\n    <tr>\n      <th>513</th>\n      <td>0281ec4ac20cf43d403a4446087f6905bf663dcc96b8b6...</td>\n      <td>pageview</td>\n      <td>NaN</td>\n      <td>07c3cfa70a8f371121939ea5f7071bcecddd5818b438c8...</td>\n      <td>1551721455226</td>\n      <td>07c3cfa70a8f371121939ea5f7071bcecddd5818b438c8...</td>\n      <td>NaN</td>\n      <td>NaN</td>\n    </tr>\n    <tr>\n      <th>514</th>\n      <td>0281ec4ac20cf43d403a4446087f6905bf663dcc96b8b6...</td>\n      <td>pageview</td>\n      <td>NaN</td>\n      <td>aa3cdb064827cf5ee3a0b1ac17569400124de674c1bf5d...</td>\n      <td>1551721497043</td>\n      <td>aa3cdb064827cf5ee3a0b1ac17569400124de674c1bf5d...</td>\n      <td>NaN</td>\n      <td>NaN</td>\n    </tr>\n    <tr>\n      <th>515</th>\n      <td>0281ec4ac20cf43d403a4446087f6905bf663dcc96b8b6...</td>\n      <td>pageview</td>\n      <td>NaN</td>\n      <td>ab91fdc8ec638c5f585a0ef476e2c370db179dc74f8e08...</td>\n      <td>1551721515407</td>\n      <td>ab91fdc8ec638c5f585a0ef476e2c370db179dc74f8e08...</td>\n      <td>NaN</td>\n      <td>NaN</td>\n    </tr>\n    <tr>\n      <th>...</th>\n      <td>...</td>\n      <td>...</td>\n      <td>...</td>\n      <td>...</td>\n      <td>...</td>\n      <td>...</td>\n      <td>...</td>\n      <td>...</td>\n    </tr>\n    <tr>\n      <th>781</th>\n      <td>ff4525283a309b01d20a748547ea3cc4770bb12644406f...</td>\n      <td>event_product</td>\n      <td>click</td>\n      <td>f8c02189903e94c3aaf55a8b1070b39b00be438feb116f...</td>\n      <td>1548809917787</td>\n      <td>f8c02189903e94c3aaf55a8b1070b39b00be438feb116f...</td>\n      <td>NaN</td>\n      <td>NaN</td>\n    </tr>\n    <tr>\n      <th>782</th>\n      <td>ff4525283a309b01d20a748547ea3cc4770bb12644406f...</td>\n      <td>event_product</td>\n      <td>click</td>\n      <td>4ccc7bad22f0cc7f3dbe51e9f09a2a6c2788b3f82b38d4...</td>\n      <td>1548809917787</td>\n      <td>4ccc7bad22f0cc7f3dbe51e9f09a2a6c2788b3f82b38d4...</td>\n      <td>NaN</td>\n      <td>NaN</td>\n    </tr>\n    <tr>\n      <th>783</th>\n      <td>ff4525283a309b01d20a748547ea3cc4770bb12644406f...</td>\n      <td>event_product</td>\n      <td>click</td>\n      <td>2becbefc2274ef246db69447a5a6078a052bf2894417f9...</td>\n      <td>1548809917787</td>\n      <td>2becbefc2274ef246db69447a5a6078a052bf2894417f9...</td>\n      <td>NaN</td>\n      <td>NaN</td>\n    </tr>\n    <tr>\n      <th>784</th>\n      <td>ff4525283a309b01d20a748547ea3cc4770bb12644406f...</td>\n      <td>event_product</td>\n      <td>click</td>\n      <td>5589602aafd42abc5954b84e0d6605e5ad23173c85b7b4...</td>\n      <td>1548810431270</td>\n      <td>5589602aafd42abc5954b84e0d6605e5ad23173c85b7b4...</td>\n      <td>NaN</td>\n      <td>NaN</td>\n    </tr>\n    <tr>\n      <th>785</th>\n      <td>ff4525283a309b01d20a748547ea3cc4770bb12644406f...</td>\n      <td>event_product</td>\n      <td>click</td>\n      <td>22d81f0e9b602f3c7e5c8efb3b2fc8dbff9e3e54ab65fe...</td>\n      <td>1548810431270</td>\n      <td>22d81f0e9b602f3c7e5c8efb3b2fc8dbff9e3e54ab65fe...</td>\n      <td>NaN</td>\n      <td>NaN</td>\n    </tr>\n  </tbody>\n</table>\n<p>980 rows × 8 columns</p>\n</div>"
     },
     "execution_count": 17,
     "metadata": {},
     "output_type": "execute_result"
    }
   ],
   "source": [
    "full_dataset_with_pageviews = pd.merge(browsing_train_with_pageviews, sku_to_content, on='product_sku_hash', how='left')\n",
    "full_dataset_with_pageviews.drop(columns=['description_vector', 'image_vector'], inplace=True)\n",
    "full_dataset_with_pageviews.sort_values(['session_id_hash', 'server_timestamp_epoch_ms'], inplace=True)\n",
    "full_dataset_with_pageviews"
   ],
   "metadata": {
    "collapsed": false
   }
  },
  {
   "cell_type": "code",
   "execution_count": 18,
   "outputs": [
    {
     "data": {
      "text/plain": "                                       session_id_hash     event_type  \\\n417  002697a7dcac28c8729c5417975c381aa2cddbf821a6c7...  event_product   \n171  0281ec4ac20cf43d403a4446087f6905bf663dcc96b8b6...  event_product   \n277  036d73f68c46108491dbd5ac4b36c5d7778706d9865fa0...  event_product   \n278  036d73f68c46108491dbd5ac4b36c5d7778706d9865fa0...  event_product   \n279  036d73f68c46108491dbd5ac4b36c5d7778706d9865fa0...  event_product   \n..                                                 ...            ...   \n294  ff4525283a309b01d20a748547ea3cc4770bb12644406f...  event_product   \n295  ff4525283a309b01d20a748547ea3cc4770bb12644406f...  event_product   \n296  ff4525283a309b01d20a748547ea3cc4770bb12644406f...  event_product   \n297  ff4525283a309b01d20a748547ea3cc4770bb12644406f...  event_product   \n298  ff4525283a309b01d20a748547ea3cc4770bb12644406f...  event_product   \n\n    product_action                                   product_sku_hash  \\\n417          click  caae53ae8df0cba1272315428f37a93d1b7d5a1f126f4b...   \n171         detail  36e8246f800db10613eef89c81513df909ec8171a875f0...   \n277          click  53c5c9d0002590596ce079639cc39b075f185fd5a1c50b...   \n278          click  a4ccb08c402c8875de1401cd230d16263d1dcdf27af3be...   \n279          click  62f6a294af99e8ca76d02a3607281f7bf5b435fb6b0a1b...   \n..             ...                                                ...   \n294          click  f8c02189903e94c3aaf55a8b1070b39b00be438feb116f...   \n295          click  4ccc7bad22f0cc7f3dbe51e9f09a2a6c2788b3f82b38d4...   \n296          click  2becbefc2274ef246db69447a5a6078a052bf2894417f9...   \n297          click  5589602aafd42abc5954b84e0d6605e5ad23173c85b7b4...   \n298          click  22d81f0e9b602f3c7e5c8efb3b2fc8dbff9e3e54ab65fe...   \n\n     server_timestamp_epoch_ms  \\\n417              1547920352021   \n171              1551721623093   \n277              1549593446457   \n278              1549593446457   \n279              1549593446457   \n..                         ...   \n294              1548809917787   \n295              1548809917787   \n296              1548809917787   \n297              1548810431270   \n298              1548810431270   \n\n                                            hashed_url  \\\n417  caae53ae8df0cba1272315428f37a93d1b7d5a1f126f4b...   \n171  15c3f072fa3c3caa710d9cc114fa017f37deb117ec158c...   \n277  53c5c9d0002590596ce079639cc39b075f185fd5a1c50b...   \n278  a4ccb08c402c8875de1401cd230d16263d1dcdf27af3be...   \n279  62f6a294af99e8ca76d02a3607281f7bf5b435fb6b0a1b...   \n..                                                 ...   \n294  f8c02189903e94c3aaf55a8b1070b39b00be438feb116f...   \n295  4ccc7bad22f0cc7f3dbe51e9f09a2a6c2788b3f82b38d4...   \n296  2becbefc2274ef246db69447a5a6078a052bf2894417f9...   \n297  5589602aafd42abc5954b84e0d6605e5ad23173c85b7b4...   \n298  22d81f0e9b602f3c7e5c8efb3b2fc8dbff9e3e54ab65fe...   \n\n                                         category_hash  price_bucket  \n417                                                NaN           NaN  \n171                                                NaN           NaN  \n277  06fa312761d4b39e2f649781514ac69a4c1505c221fc46...          10.0  \n278                                                NaN           NaN  \n279                                                NaN           NaN  \n..                                                 ...           ...  \n294                                                NaN           NaN  \n295                                                NaN           NaN  \n296                                                NaN           NaN  \n297                                                NaN           NaN  \n298                                                NaN           NaN  \n\n[493 rows x 8 columns]",
      "text/html": "<div>\n<style scoped>\n    .dataframe tbody tr th:only-of-type {\n        vertical-align: middle;\n    }\n\n    .dataframe tbody tr th {\n        vertical-align: top;\n    }\n\n    .dataframe thead th {\n        text-align: right;\n    }\n</style>\n<table border=\"1\" class=\"dataframe\">\n  <thead>\n    <tr style=\"text-align: right;\">\n      <th></th>\n      <th>session_id_hash</th>\n      <th>event_type</th>\n      <th>product_action</th>\n      <th>product_sku_hash</th>\n      <th>server_timestamp_epoch_ms</th>\n      <th>hashed_url</th>\n      <th>category_hash</th>\n      <th>price_bucket</th>\n    </tr>\n  </thead>\n  <tbody>\n    <tr>\n      <th>417</th>\n      <td>002697a7dcac28c8729c5417975c381aa2cddbf821a6c7...</td>\n      <td>event_product</td>\n      <td>click</td>\n      <td>caae53ae8df0cba1272315428f37a93d1b7d5a1f126f4b...</td>\n      <td>1547920352021</td>\n      <td>caae53ae8df0cba1272315428f37a93d1b7d5a1f126f4b...</td>\n      <td>NaN</td>\n      <td>NaN</td>\n    </tr>\n    <tr>\n      <th>171</th>\n      <td>0281ec4ac20cf43d403a4446087f6905bf663dcc96b8b6...</td>\n      <td>event_product</td>\n      <td>detail</td>\n      <td>36e8246f800db10613eef89c81513df909ec8171a875f0...</td>\n      <td>1551721623093</td>\n      <td>15c3f072fa3c3caa710d9cc114fa017f37deb117ec158c...</td>\n      <td>NaN</td>\n      <td>NaN</td>\n    </tr>\n    <tr>\n      <th>277</th>\n      <td>036d73f68c46108491dbd5ac4b36c5d7778706d9865fa0...</td>\n      <td>event_product</td>\n      <td>click</td>\n      <td>53c5c9d0002590596ce079639cc39b075f185fd5a1c50b...</td>\n      <td>1549593446457</td>\n      <td>53c5c9d0002590596ce079639cc39b075f185fd5a1c50b...</td>\n      <td>06fa312761d4b39e2f649781514ac69a4c1505c221fc46...</td>\n      <td>10.0</td>\n    </tr>\n    <tr>\n      <th>278</th>\n      <td>036d73f68c46108491dbd5ac4b36c5d7778706d9865fa0...</td>\n      <td>event_product</td>\n      <td>click</td>\n      <td>a4ccb08c402c8875de1401cd230d16263d1dcdf27af3be...</td>\n      <td>1549593446457</td>\n      <td>a4ccb08c402c8875de1401cd230d16263d1dcdf27af3be...</td>\n      <td>NaN</td>\n      <td>NaN</td>\n    </tr>\n    <tr>\n      <th>279</th>\n      <td>036d73f68c46108491dbd5ac4b36c5d7778706d9865fa0...</td>\n      <td>event_product</td>\n      <td>click</td>\n      <td>62f6a294af99e8ca76d02a3607281f7bf5b435fb6b0a1b...</td>\n      <td>1549593446457</td>\n      <td>62f6a294af99e8ca76d02a3607281f7bf5b435fb6b0a1b...</td>\n      <td>NaN</td>\n      <td>NaN</td>\n    </tr>\n    <tr>\n      <th>...</th>\n      <td>...</td>\n      <td>...</td>\n      <td>...</td>\n      <td>...</td>\n      <td>...</td>\n      <td>...</td>\n      <td>...</td>\n      <td>...</td>\n    </tr>\n    <tr>\n      <th>294</th>\n      <td>ff4525283a309b01d20a748547ea3cc4770bb12644406f...</td>\n      <td>event_product</td>\n      <td>click</td>\n      <td>f8c02189903e94c3aaf55a8b1070b39b00be438feb116f...</td>\n      <td>1548809917787</td>\n      <td>f8c02189903e94c3aaf55a8b1070b39b00be438feb116f...</td>\n      <td>NaN</td>\n      <td>NaN</td>\n    </tr>\n    <tr>\n      <th>295</th>\n      <td>ff4525283a309b01d20a748547ea3cc4770bb12644406f...</td>\n      <td>event_product</td>\n      <td>click</td>\n      <td>4ccc7bad22f0cc7f3dbe51e9f09a2a6c2788b3f82b38d4...</td>\n      <td>1548809917787</td>\n      <td>4ccc7bad22f0cc7f3dbe51e9f09a2a6c2788b3f82b38d4...</td>\n      <td>NaN</td>\n      <td>NaN</td>\n    </tr>\n    <tr>\n      <th>296</th>\n      <td>ff4525283a309b01d20a748547ea3cc4770bb12644406f...</td>\n      <td>event_product</td>\n      <td>click</td>\n      <td>2becbefc2274ef246db69447a5a6078a052bf2894417f9...</td>\n      <td>1548809917787</td>\n      <td>2becbefc2274ef246db69447a5a6078a052bf2894417f9...</td>\n      <td>NaN</td>\n      <td>NaN</td>\n    </tr>\n    <tr>\n      <th>297</th>\n      <td>ff4525283a309b01d20a748547ea3cc4770bb12644406f...</td>\n      <td>event_product</td>\n      <td>click</td>\n      <td>5589602aafd42abc5954b84e0d6605e5ad23173c85b7b4...</td>\n      <td>1548810431270</td>\n      <td>5589602aafd42abc5954b84e0d6605e5ad23173c85b7b4...</td>\n      <td>NaN</td>\n      <td>NaN</td>\n    </tr>\n    <tr>\n      <th>298</th>\n      <td>ff4525283a309b01d20a748547ea3cc4770bb12644406f...</td>\n      <td>event_product</td>\n      <td>click</td>\n      <td>22d81f0e9b602f3c7e5c8efb3b2fc8dbff9e3e54ab65fe...</td>\n      <td>1548810431270</td>\n      <td>22d81f0e9b602f3c7e5c8efb3b2fc8dbff9e3e54ab65fe...</td>\n      <td>NaN</td>\n      <td>NaN</td>\n    </tr>\n  </tbody>\n</table>\n<p>493 rows × 8 columns</p>\n</div>"
     },
     "execution_count": 18,
     "metadata": {},
     "output_type": "execute_result"
    }
   ],
   "source": [
    "full_dataset_without_pageviews = pd.merge(browsing_train_without_pageviews, sku_to_content, on='product_sku_hash', how='left')\n",
    "full_dataset_without_pageviews.drop(columns=['description_vector', 'image_vector'], inplace=True)\n",
    "full_dataset_without_pageviews.sort_values(['session_id_hash', 'server_timestamp_epoch_ms'], inplace=True)\n",
    "full_dataset_without_pageviews"
   ],
   "metadata": {
    "collapsed": false
   }
  },
  {
   "cell_type": "markdown",
   "source": [
    "Dictionaries for vectors"
   ],
   "metadata": {
    "collapsed": false
   }
  },
  {
   "cell_type": "code",
   "execution_count": 19,
   "outputs": [
    {
     "data": {
      "text/plain": "                                      product_sku_hash  \\\n2    a2c3e2430c6ef9770b903ad08fa067a6b2b9db28f06e1b...   \n3    1028ef615e425c328e7b95010dfb1fb93cf63749a1bc80...   \n4    9870c682d0d52d635501249da0eeaa118fad430b695ea1...   \n7    6d525bb527043f6a80a13e5581f31ad41dbfbcb7786f07...   \n10   a5bf8f8fff2f5e3c7a9b216798b2710626c6cd8d192696...   \n..                                                 ...   \n987  5e1822b65559a3ca664c08473b78dda9c3e5f1cc01ce92...   \n988  16b4f1303e4b238565b352ca0e70b2285cf21e296c1181...   \n990  3e10b4206a3f1b76f7989678a1b64cd02dba1360cc94ae...   \n993  164c238b28fd817cec973a7f2b46bb856d40bcef6c89a1...   \n994  42c7ad32f1f7d4ba1c026219df8fdde052d8a0e0b8f652...   \n\n                                    description_vector  \n2    [0.27629122138023376, -0.15763211250305176, 0....  \n3    [0.4058118760585785, -0.03595402091741562, 0.2...  \n4    [-0.3206155300140381, 0.01991105079650879, 0.0...  \n7    [-0.1854386031627655, 0.19424490630626678, -0....  \n10   [-0.24601778388023376, -0.12155783176422119, -...  \n..                                                 ...  \n987  [-0.2417111098766327, 0.2018735706806183, 0.01...  \n988  [-0.23431004583835602, 0.42535316944122314, -0...  \n990  [0.2765826880931854, 0.02198055014014244, -0.0...  \n993  [-0.15833675861358643, 0.12132102996110916, -0...  \n994  [-0.15623541176319122, 0.2608400285243988, 0.0...  \n\n[469 rows x 2 columns]",
      "text/html": "<div>\n<style scoped>\n    .dataframe tbody tr th:only-of-type {\n        vertical-align: middle;\n    }\n\n    .dataframe tbody tr th {\n        vertical-align: top;\n    }\n\n    .dataframe thead th {\n        text-align: right;\n    }\n</style>\n<table border=\"1\" class=\"dataframe\">\n  <thead>\n    <tr style=\"text-align: right;\">\n      <th></th>\n      <th>product_sku_hash</th>\n      <th>description_vector</th>\n    </tr>\n  </thead>\n  <tbody>\n    <tr>\n      <th>2</th>\n      <td>a2c3e2430c6ef9770b903ad08fa067a6b2b9db28f06e1b...</td>\n      <td>[0.27629122138023376, -0.15763211250305176, 0....</td>\n    </tr>\n    <tr>\n      <th>3</th>\n      <td>1028ef615e425c328e7b95010dfb1fb93cf63749a1bc80...</td>\n      <td>[0.4058118760585785, -0.03595402091741562, 0.2...</td>\n    </tr>\n    <tr>\n      <th>4</th>\n      <td>9870c682d0d52d635501249da0eeaa118fad430b695ea1...</td>\n      <td>[-0.3206155300140381, 0.01991105079650879, 0.0...</td>\n    </tr>\n    <tr>\n      <th>7</th>\n      <td>6d525bb527043f6a80a13e5581f31ad41dbfbcb7786f07...</td>\n      <td>[-0.1854386031627655, 0.19424490630626678, -0....</td>\n    </tr>\n    <tr>\n      <th>10</th>\n      <td>a5bf8f8fff2f5e3c7a9b216798b2710626c6cd8d192696...</td>\n      <td>[-0.24601778388023376, -0.12155783176422119, -...</td>\n    </tr>\n    <tr>\n      <th>...</th>\n      <td>...</td>\n      <td>...</td>\n    </tr>\n    <tr>\n      <th>987</th>\n      <td>5e1822b65559a3ca664c08473b78dda9c3e5f1cc01ce92...</td>\n      <td>[-0.2417111098766327, 0.2018735706806183, 0.01...</td>\n    </tr>\n    <tr>\n      <th>988</th>\n      <td>16b4f1303e4b238565b352ca0e70b2285cf21e296c1181...</td>\n      <td>[-0.23431004583835602, 0.42535316944122314, -0...</td>\n    </tr>\n    <tr>\n      <th>990</th>\n      <td>3e10b4206a3f1b76f7989678a1b64cd02dba1360cc94ae...</td>\n      <td>[0.2765826880931854, 0.02198055014014244, -0.0...</td>\n    </tr>\n    <tr>\n      <th>993</th>\n      <td>164c238b28fd817cec973a7f2b46bb856d40bcef6c89a1...</td>\n      <td>[-0.15833675861358643, 0.12132102996110916, -0...</td>\n    </tr>\n    <tr>\n      <th>994</th>\n      <td>42c7ad32f1f7d4ba1c026219df8fdde052d8a0e0b8f652...</td>\n      <td>[-0.15623541176319122, 0.2608400285243988, 0.0...</td>\n    </tr>\n  </tbody>\n</table>\n<p>469 rows × 2 columns</p>\n</div>"
     },
     "execution_count": 19,
     "metadata": {},
     "output_type": "execute_result"
    }
   ],
   "source": [
    "desc_vector_dict = sku_to_content[['product_sku_hash', 'description_vector']]\n",
    "desc_vector_dict = desc_vector_dict[desc_vector_dict['description_vector'].notnull()]\n",
    "desc_vector_dict"
   ],
   "metadata": {
    "collapsed": false
   }
  },
  {
   "cell_type": "code",
   "execution_count": 20,
   "outputs": [
    {
     "data": {
      "text/plain": "                                      product_sku_hash  \\\n2    a2c3e2430c6ef9770b903ad08fa067a6b2b9db28f06e1b...   \n3    1028ef615e425c328e7b95010dfb1fb93cf63749a1bc80...   \n4    9870c682d0d52d635501249da0eeaa118fad430b695ea1...   \n7    6d525bb527043f6a80a13e5581f31ad41dbfbcb7786f07...   \n10   a5bf8f8fff2f5e3c7a9b216798b2710626c6cd8d192696...   \n..                                                 ...   \n987  5e1822b65559a3ca664c08473b78dda9c3e5f1cc01ce92...   \n988  16b4f1303e4b238565b352ca0e70b2285cf21e296c1181...   \n990  3e10b4206a3f1b76f7989678a1b64cd02dba1360cc94ae...   \n993  164c238b28fd817cec973a7f2b46bb856d40bcef6c89a1...   \n994  42c7ad32f1f7d4ba1c026219df8fdde052d8a0e0b8f652...   \n\n                                          image_vector  \n2    [340.3592564184389, -220.19025864725685, 154.0...  \n3    [180.3463662921092, 222.702322343354, -8.88703...  \n4    [-114.81079301576219, 84.55770104232334, 85.51...  \n7    [-136.92241034233342, 38.10508984596936, 55.68...  \n10   [-176.43381730762223, 185.29138615399393, 121....  \n..                                                 ...  \n987  [-30.426419737020765, -9.302685888758518, 86.2...  \n988  [-284.65427391458866, 63.96824250949956, 305.5...  \n990  [-243.4105360675571, 27.93066739546925, 66.405...  \n993  [-309.72580652729005, 10.507498764924037, 211....  \n994  [-224.70478392545985, -148.41778705872497, -21...  \n\n[418 rows x 2 columns]",
      "text/html": "<div>\n<style scoped>\n    .dataframe tbody tr th:only-of-type {\n        vertical-align: middle;\n    }\n\n    .dataframe tbody tr th {\n        vertical-align: top;\n    }\n\n    .dataframe thead th {\n        text-align: right;\n    }\n</style>\n<table border=\"1\" class=\"dataframe\">\n  <thead>\n    <tr style=\"text-align: right;\">\n      <th></th>\n      <th>product_sku_hash</th>\n      <th>image_vector</th>\n    </tr>\n  </thead>\n  <tbody>\n    <tr>\n      <th>2</th>\n      <td>a2c3e2430c6ef9770b903ad08fa067a6b2b9db28f06e1b...</td>\n      <td>[340.3592564184389, -220.19025864725685, 154.0...</td>\n    </tr>\n    <tr>\n      <th>3</th>\n      <td>1028ef615e425c328e7b95010dfb1fb93cf63749a1bc80...</td>\n      <td>[180.3463662921092, 222.702322343354, -8.88703...</td>\n    </tr>\n    <tr>\n      <th>4</th>\n      <td>9870c682d0d52d635501249da0eeaa118fad430b695ea1...</td>\n      <td>[-114.81079301576219, 84.55770104232334, 85.51...</td>\n    </tr>\n    <tr>\n      <th>7</th>\n      <td>6d525bb527043f6a80a13e5581f31ad41dbfbcb7786f07...</td>\n      <td>[-136.92241034233342, 38.10508984596936, 55.68...</td>\n    </tr>\n    <tr>\n      <th>10</th>\n      <td>a5bf8f8fff2f5e3c7a9b216798b2710626c6cd8d192696...</td>\n      <td>[-176.43381730762223, 185.29138615399393, 121....</td>\n    </tr>\n    <tr>\n      <th>...</th>\n      <td>...</td>\n      <td>...</td>\n    </tr>\n    <tr>\n      <th>987</th>\n      <td>5e1822b65559a3ca664c08473b78dda9c3e5f1cc01ce92...</td>\n      <td>[-30.426419737020765, -9.302685888758518, 86.2...</td>\n    </tr>\n    <tr>\n      <th>988</th>\n      <td>16b4f1303e4b238565b352ca0e70b2285cf21e296c1181...</td>\n      <td>[-284.65427391458866, 63.96824250949956, 305.5...</td>\n    </tr>\n    <tr>\n      <th>990</th>\n      <td>3e10b4206a3f1b76f7989678a1b64cd02dba1360cc94ae...</td>\n      <td>[-243.4105360675571, 27.93066739546925, 66.405...</td>\n    </tr>\n    <tr>\n      <th>993</th>\n      <td>164c238b28fd817cec973a7f2b46bb856d40bcef6c89a1...</td>\n      <td>[-309.72580652729005, 10.507498764924037, 211....</td>\n    </tr>\n    <tr>\n      <th>994</th>\n      <td>42c7ad32f1f7d4ba1c026219df8fdde052d8a0e0b8f652...</td>\n      <td>[-224.70478392545985, -148.41778705872497, -21...</td>\n    </tr>\n  </tbody>\n</table>\n<p>418 rows × 2 columns</p>\n</div>"
     },
     "execution_count": 20,
     "metadata": {},
     "output_type": "execute_result"
    }
   ],
   "source": [
    "img_vector_dict = sku_to_content[['product_sku_hash', 'image_vector']]\n",
    "img_vector_dict = img_vector_dict[img_vector_dict['image_vector'].notnull()]\n",
    "img_vector_dict"
   ],
   "metadata": {
    "collapsed": false
   }
  }
 ],
 "metadata": {
  "kernelspec": {
   "display_name": "Python 3",
   "language": "python",
   "name": "python3"
  },
  "language_info": {
   "codemirror_mode": {
    "name": "ipython",
    "version": 2
   },
   "file_extension": ".py",
   "mimetype": "text/x-python",
   "name": "python",
   "nbconvert_exporter": "python",
   "pygments_lexer": "ipython2",
   "version": "2.7.6"
  }
 },
 "nbformat": 4,
 "nbformat_minor": 0
}
